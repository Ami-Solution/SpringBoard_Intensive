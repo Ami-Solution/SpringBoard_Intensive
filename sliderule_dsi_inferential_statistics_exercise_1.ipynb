{
 "cells": [
  {
   "cell_type": "markdown",
   "metadata": {},
   "source": [
    "# What is the True Normal Human Body Temperature? \n",
    "\n",
    "#### Background\n",
    "\n",
    "The mean normal body temperature was held to be 37$^{\\circ}$C or 98.6$^{\\circ}$F for more than 120 years since it was first conceptualized and reported by Carl Wunderlich in a famous 1868 book. But, is this value statistically correct?"
   ]
  },
  {
   "cell_type": "markdown",
   "metadata": {},
   "source": [
    "<div class=\"span5 alert alert-info\">\n",
    "<h3>Exercises</h3>\n",
    "\n",
    "<p>In this exercise, you will analyze a dataset of human body temperatures and employ the concepts of hypothesis testing, confidence intervals, and statistical significance.</p>\n",
    "\n",
    "<p>Answer the following questions <b>in this notebook below and submit to your Github account</b>.</p> \n",
    "\n",
    "<ol>\n",
    "<li>  Is the distribution of body temperatures normal? \n",
    "    <ul>\n",
    "    <li> Although this is not a requirement for CLT to hold (read CLT carefully), it gives us some peace of mind that the population may also be normally distributed if we assume that this sample is representative of the population.\n",
    "    </ul>\n",
    "<li>  Is the sample size large? Are the observations independent?\n",
    "    <ul>\n",
    "    <li> Remember that this is a condition for the CLT, and hence the statistical tests we are using, to apply.\n",
    "    </ul>\n",
    "<li>  Is the true population mean really 98.6 degrees F?\n",
    "    <ul>\n",
    "    <li> Would you use a one-sample or two-sample test? Why?\n",
    "    <li> In this situation, is it appropriate to use the $t$ or $z$ statistic? \n",
    "    <li> Now try using the other test. How is the result be different? Why?\n",
    "    </ul>\n",
    "<li>  At what temperature should we consider someone's temperature to be \"abnormal\"?\n",
    "    <ul>\n",
    "    <li> Start by computing the margin of error and confidence interval.\n",
    "    </ul>\n",
    "<li>  Is there a significant difference between males and females in normal temperature?\n",
    "    <ul>\n",
    "    <li> What test did you use and why?\n",
    "    <li> Write a story with your conclusion in the context of the original problem.\n",
    "    </ul>\n",
    "</ol>\n",
    "\n",
    "You can include written notes in notebook cells using Markdown: \n",
    "   - In the control panel at the top, choose Cell > Cell Type > Markdown\n",
    "   - Markdown syntax: http://nestacms.com/docs/creating-content/markdown-cheat-sheet\n",
    "\n",
    "#### Resources\n",
    "\n",
    "+ Information and data sources: http://www.amstat.org/publications/jse/datasets/normtemp.txt, http://www.amstat.org/publications/jse/jse_data_archive.htm\n",
    "+ Markdown syntax: http://nestacms.com/docs/creating-content/markdown-cheat-sheet\n",
    "\n",
    "****"
   ]
  },
  {
   "cell_type": "code",
   "execution_count": 1,
   "metadata": {
    "collapsed": true
   },
   "outputs": [],
   "source": [
    "import pandas as pd\n",
    "%matplotlib inline\n",
    "import matplotlib.pyplot as plt\n",
    "import scipy\n",
    "import scipy.stats as stats\n",
    "\n",
    "df = pd.read_csv('data/human_body_temperature.csv')"
   ]
  },
  {
   "cell_type": "code",
   "execution_count": 2,
   "metadata": {
    "collapsed": false
   },
   "outputs": [],
   "source": [
    "# Your work here."
   ]
  },
  {
   "cell_type": "markdown",
   "metadata": {},
   "source": [
    "<h2> 1. Is the distribution of body temperatures normal? </h2>\n",
    "    <ul>\n",
    "    <li> Although this is not a requirement for CLT to hold (read CLT carefully), it gives us some peace of mind that the population may also be normally distributed if we assume that this sample is representative of the population.\n",
    "    </ul>\n",
    "    "
   ]
  },
  {
   "cell_type": "markdown",
   "metadata": {},
   "source": [
    "Not exactly but the data is approximately normally distributed. See below, the sciipy stats normalTest shows a p-value of .258, and with a 5% threshold, this can be considered a decent representative sample (not by chance)."
   ]
  },
  {
   "cell_type": "code",
   "execution_count": 3,
   "metadata": {
    "collapsed": false
   },
   "outputs": [
    {
     "data": {
      "text/plain": [
       "<matplotlib.axes._subplots.AxesSubplot at 0xa640908>"
      ]
     },
     "execution_count": 3,
     "metadata": {},
     "output_type": "execute_result"
    },
    {
     "data": {
      "image/png": "[encoded data removed]",
      "text/plain": [
       "<matplotlib.figure.Figure at 0x5250588>"
      ]
     },
     "metadata": {},
     "output_type": "display_data"
    }
   ],
   "source": [
    "df['temperature'].hist(bins=20)"
   ]
  },
  {
   "cell_type": "code",
   "execution_count": 4,
   "metadata": {
    "collapsed": false
   },
   "outputs": [
    {
     "data": {
      "text/plain": [
       "NormaltestResult(statistic=2.7038014333192031, pvalue=0.2587479863488254)"
      ]
     },
     "execution_count": 4,
     "metadata": {},
     "output_type": "execute_result"
    }
   ],
   "source": [
    "scipy.stats.mstats.normaltest(df['temperature'], axis=0)"
   ]
  },
  {
   "cell_type": "markdown",
   "metadata": {},
   "source": [
    "<h2>2. Is the samle size large? Are the observations independent?</h2>\n",
    "\n",
    "with a size of 130 samples, it isn't a very large dataset. The observations are independent (see proof below)"
   ]
  },
  {
   "cell_type": "code",
   "execution_count": 5,
   "metadata": {
    "collapsed": false
   },
   "outputs": [
    {
     "name": "stdout",
     "output_type": "stream",
     "text": [
      "130\n"
     ]
    }
   ],
   "source": [
    "print(len(df))"
   ]
  },
  {
   "cell_type": "markdown",
   "metadata": {},
   "source": [
    "To test independence with chi-squared test, i need the table of frequcy. I want rows: Female | Male, and columns: Temp, HR"
   ]
  },
  {
   "cell_type": "code",
   "execution_count": 6,
   "metadata": {
    "collapsed": false
   },
   "outputs": [
    {
     "data": {
      "text/html": [
       "<div>\n",
       "<table border=\"1\" class=\"dataframe\">\n",
       "  <thead>\n",
       "    <tr style=\"text-align: right;\">\n",
       "      <th>temperature</th>\n",
       "      <th>96.3</th>\n",
       "      <th>96.4</th>\n",
       "      <th>96.7</th>\n",
       "      <th>96.8</th>\n",
       "      <th>96.9</th>\n",
       "      <th>97.0</th>\n",
       "      <th>97.1</th>\n",
       "      <th>97.2</th>\n",
       "      <th>97.3</th>\n",
       "      <th>97.4</th>\n",
       "      <th>...</th>\n",
       "      <th>98.9</th>\n",
       "      <th>99.0</th>\n",
       "      <th>99.1</th>\n",
       "      <th>99.2</th>\n",
       "      <th>99.3</th>\n",
       "      <th>99.4</th>\n",
       "      <th>99.5</th>\n",
       "      <th>99.9</th>\n",
       "      <th>100.0</th>\n",
       "      <th>100.8</th>\n",
       "    </tr>\n",
       "  </thead>\n",
       "  <tbody>\n",
       "    <tr>\n",
       "      <th>F</th>\n",
       "      <td>0.0</td>\n",
       "      <td>1.0</td>\n",
       "      <td>1.0</td>\n",
       "      <td>1.0</td>\n",
       "      <td>0.0</td>\n",
       "      <td>0.0</td>\n",
       "      <td>0.0</td>\n",
       "      <td>2.0</td>\n",
       "      <td>0.0</td>\n",
       "      <td>1.0</td>\n",
       "      <td>...</td>\n",
       "      <td>1.0</td>\n",
       "      <td>2.0</td>\n",
       "      <td>2.0</td>\n",
       "      <td>2.0</td>\n",
       "      <td>1.0</td>\n",
       "      <td>1.0</td>\n",
       "      <td>0.0</td>\n",
       "      <td>1.0</td>\n",
       "      <td>1.0</td>\n",
       "      <td>1.0</td>\n",
       "    </tr>\n",
       "    <tr>\n",
       "      <th>M</th>\n",
       "      <td>1.0</td>\n",
       "      <td>0.0</td>\n",
       "      <td>1.0</td>\n",
       "      <td>0.0</td>\n",
       "      <td>1.0</td>\n",
       "      <td>1.0</td>\n",
       "      <td>3.0</td>\n",
       "      <td>1.0</td>\n",
       "      <td>1.0</td>\n",
       "      <td>4.0</td>\n",
       "      <td>...</td>\n",
       "      <td>1.0</td>\n",
       "      <td>3.0</td>\n",
       "      <td>1.0</td>\n",
       "      <td>1.0</td>\n",
       "      <td>1.0</td>\n",
       "      <td>1.0</td>\n",
       "      <td>1.0</td>\n",
       "      <td>0.0</td>\n",
       "      <td>0.0</td>\n",
       "      <td>0.0</td>\n",
       "    </tr>\n",
       "  </tbody>\n",
       "</table>\n",
       "<p>2 rows × 34 columns</p>\n",
       "</div>"
      ],
      "text/plain": [
       "temperature  96.3   96.4   96.7   96.8   96.9   97.0   97.1   97.2   97.3   \\\n",
       "F              0.0    1.0    1.0    1.0    0.0    0.0    0.0    2.0    0.0   \n",
       "M              1.0    0.0    1.0    0.0    1.0    1.0    3.0    1.0    1.0   \n",
       "\n",
       "temperature  97.4   ...    98.9   99.0   99.1   99.2   99.3   99.4   99.5   \\\n",
       "F              1.0  ...      1.0    2.0    2.0    2.0    1.0    1.0    0.0   \n",
       "M              4.0  ...      1.0    3.0    1.0    1.0    1.0    1.0    1.0   \n",
       "\n",
       "temperature  99.9   100.0  100.8  \n",
       "F              1.0    1.0    1.0  \n",
       "M              0.0    0.0    0.0  \n",
       "\n",
       "[2 rows x 34 columns]"
      ]
     },
     "execution_count": 6,
     "metadata": {},
     "output_type": "execute_result"
    }
   ],
   "source": [
    "col1 = df.drop('heart_rate',axis=1)[df['gender']=='F'].groupby('temperature').count()\n",
    "col1.columns = ['F']\n",
    "col2 = df.drop('heart_rate',axis=1)[df['gender']=='M'].groupby('temperature').count()\n",
    "col2.columns = ['M']\n",
    "df_contg = col1.join(col2,how='outer')\n",
    "df_contg = df_contg.fillna(0)\n",
    "df_contg = df_contg.T\n",
    "df_contg.head(4)\n"
   ]
  },
  {
   "cell_type": "code",
   "execution_count": 7,
   "metadata": {
    "collapsed": false
   },
   "outputs": [
    {
     "data": {
      "text/plain": [
       "(25.144877344877344,\n",
       " 0.83459920689748079,\n",
       " 33,\n",
       " array([[ 0.5,  0.5,  1. ,  0.5,  0.5,  0.5,  1.5,  1.5,  0.5,  2.5,  1. ,\n",
       "          2. ,  1.5,  3.5,  2.5,  5.5,  1.5,  5. ,  2.5,  4.5,  1.5,  5. ,\n",
       "          4. ,  5. ,  1. ,  2.5,  1.5,  1.5,  1. ,  1. ,  0.5,  0.5,  0.5,\n",
       "          0.5],\n",
       "        [ 0.5,  0.5,  1. ,  0.5,  0.5,  0.5,  1.5,  1.5,  0.5,  2.5,  1. ,\n",
       "          2. ,  1.5,  3.5,  2.5,  5.5,  1.5,  5. ,  2.5,  4.5,  1.5,  5. ,\n",
       "          4. ,  5. ,  1. ,  2.5,  1.5,  1.5,  1. ,  1. ,  0.5,  0.5,  0.5,\n",
       "          0.5]]))"
      ]
     },
     "execution_count": 7,
     "metadata": {},
     "output_type": "execute_result"
    }
   ],
   "source": [
    "#now that we have frequency table, can test for independence:\n",
    "stats.chi2_contingency(observed= df_contg)"
   ]
  },
  {
   "cell_type": "markdown",
   "metadata": {},
   "source": [
    "As expected, given the high p-value of 0.83, the test result does not detect a significant relationship between the variables Temp and Gender."
   ]
  },
  {
   "cell_type": "markdown",
   "metadata": {},
   "source": [
    "Now test for independence with HR:"
   ]
  },
  {
   "cell_type": "code",
   "execution_count": 8,
   "metadata": {
    "collapsed": false
   },
   "outputs": [],
   "source": [
    "col3 = df.drop('temperature',axis=1)[df['gender']=='F'].groupby('heart_rate').count()\n",
    "col3.columns = ['F']\n",
    "col4 = df.drop('temperature',axis=1)[df['gender']=='M'].groupby('heart_rate').count()\n",
    "col4.columns = ['M']\n",
    "df_contg2 = col3.join(col4,how='outer')\n",
    "df_contg2 = df_contg2.fillna(0)\n",
    "df_contg2 = df_contg2.T"
   ]
  },
  {
   "cell_type": "code",
   "execution_count": 9,
   "metadata": {
    "collapsed": false
   },
   "outputs": [
    {
     "data": {
      "text/plain": [
       "(34.695238095238096,\n",
       " 0.25389836504297797,\n",
       " 30,\n",
       " array([[ 1. ,  0.5,  0.5,  1. ,  1. ,  0.5,  3. ,  1.5,  2. ,  1. ,  3. ,\n",
       "          3. ,  3.5,  3. ,  2.5,  5. ,  3. ,  2.5,  1.5,  3.5,  5. ,  3.5,\n",
       "          2. ,  2.5,  2.5,  2. ,  2. ,  0.5,  1. ,  0.5,  1. ],\n",
       "        [ 1. ,  0.5,  0.5,  1. ,  1. ,  0.5,  3. ,  1.5,  2. ,  1. ,  3. ,\n",
       "          3. ,  3.5,  3. ,  2.5,  5. ,  3. ,  2.5,  1.5,  3.5,  5. ,  3.5,\n",
       "          2. ,  2.5,  2.5,  2. ,  2. ,  0.5,  1. ,  0.5,  1. ]]))"
      ]
     },
     "execution_count": 9,
     "metadata": {},
     "output_type": "execute_result"
    }
   ],
   "source": [
    "#now that we have frequency table, can test for independence:\n",
    "stats.chi2_contingency(observed= df_contg2)"
   ]
  },
  {
   "cell_type": "markdown",
   "metadata": {},
   "source": [
    "While this p-value is not as high as the one for temperature, a value of .25 is high and we can say the result does not detect a significant relationship between the variables HR and Gender."
   ]
  },
  {
   "cell_type": "markdown",
   "metadata": {},
   "source": [
    "<h2> 3. Is the true population mean really 98.6 degrees F? </h2>"
   ]
  },
  {
   "cell_type": "markdown",
   "metadata": {
    "collapsed": false
   },
   "source": [
    "useful resources:<br/> <a src='https://docs.scipy.org/doc/scipy-0.14.0/reference/generated/scipy.stats.ttest_1samp.html'>for t-test</a><br/>\n",
    "<a src='http://blog.minitab.com/blog/statistics-and-quality-data-analysis/what-are-t-values-and-p-values-in-statistics'>for t-p eval</a>\n",
    "\n",
    "<p> I'll use a one-sample test here, as we're dealing with 1 independent sample, not 2.</p>\n",
    "\n",
    "<p> I'll also use a t-test since a z-test requires knowing the population mean and std dev, which we don't have. All we have is a hypothesis (null hypoth) to test. Also, a t distribution is usually used to analyze the population when the sample is small, which ours is.</p>"
   ]
  },
  {
   "cell_type": "code",
   "execution_count": 10,
   "metadata": {
    "collapsed": false
   },
   "outputs": [],
   "source": [
    "import plotly.plotly as py\n",
    "py.sign_in('aguerra14', 'ogygYT7QEYcFkH725V9E')\n",
    "import plotly.graph_objs as go\n",
    "from plotly.tools import FigureFactory as FF\n"
   ]
  },
  {
   "cell_type": "code",
   "execution_count": 11,
   "metadata": {
    "collapsed": false
   },
   "outputs": [
    {
     "name": "stdout",
     "output_type": "stream",
     "text": [
      "High five! You successfuly sent some data to your account on plotly. View your plot in your browser at https://plot.ly/~aguerra14/0 or inside your plot.ly account where it is named 'onesample-table'\n"
     ]
    },
    {
     "data": {
      "text/html": [
       "<iframe id=\"igraph\" scrolling=\"no\" style=\"border:none;\" seamless=\"seamless\" src=\"https://plot.ly/~aguerra14/0.embed\" height=\"110px\" width=\"100%\"></iframe>"
      ],
      "text/plain": [
       "<plotly.tools.PlotlyDisplay object>"
      ]
     },
     "execution_count": 11,
     "metadata": {},
     "output_type": "execute_result"
    }
   ],
   "source": [
    "true_mu = 98.6 #null hypothesis that pop mean is 98.6\n",
    "\n",
    "onesample_results = scipy.stats.ttest_1samp(df['temperature'], true_mu)\n",
    "matrix_onesample = [\n",
    "    ['', 'Test Statistic', 'p-value'],\n",
    "    ['Sample Data', onesample_results[0], onesample_results[1]]\n",
    "]\n",
    "\n",
    "onesample_table = FF.create_table(matrix_onesample, index=True)\n",
    "py.iplot(onesample_table, filename='onesample-table')"
   ]
  },
  {
   "cell_type": "markdown",
   "metadata": {},
   "source": [
    "Given that the probability of obtaining a t-value this high or higher when sampling from this population is so low, it’s more likely this sample doesn’t come from this population. It's much more likely that this sample comes from a different population.\n",
    "\n",
    "The larger the absolute value of the t-value, the smaller the p-value, and the greater the evidence against the null hypothesis."
   ]
  },
  {
   "cell_type": "markdown",
   "metadata": {},
   "source": [
    "<h3>trying with z-test:</h3>"
   ]
  },
  {
   "cell_type": "markdown",
   "metadata": {},
   "source": [
    "<h3>4. At what temperature should we consider someone's temperature to be \"abnormal\"?</h3>"
   ]
  },
  {
   "cell_type": "code",
   "execution_count": null,
   "metadata": {
    "collapsed": false
   },
   "outputs": [],
   "source": [
    "#assuming a standard deviation (rough estimate)\n",
    "import math\n",
    "n, min_max, mean, var, skew, kurt = stats.describe(df['temperature'])\n",
    "std=math.sqrt(var)\n",
    "stats.norm.interval(0.05,loc=mean,scale=std)"
   ]
  },
  {
   "cell_type": "code",
   "execution_count": null,
   "metadata": {
    "collapsed": false
   },
   "outputs": [],
   "source": [
    "#using statsmodels to do more accurate estimation without knowing the standard deviation:\n",
    "import statsmodels.stats.api as sms\n",
    "sms.DescrStatsW(df['temperature']).tconfint_mean()"
   ]
  },
  {
   "cell_type": "code",
   "execution_count": null,
   "metadata": {
    "collapsed": false
   },
   "outputs": [],
   "source": [
    "\n",
    "sample_size = len(df['temperature'])\n",
    "sample = df['temperature']\n",
    "sample_mean = sample.mean()\n",
    "\n",
    "t_critical = stats.t.ppf(q = 0.975, df=24)  # Get the t-critical value*\n",
    "\n",
    "print(\"t-critical value:\")                  # Check the t-critical value\n",
    "print(t_critical)                        \n",
    "\n",
    "sample_stdev = sample.std()    # Get the sample standard deviation\n",
    "\n",
    "sigma = sample_stdev/math.sqrt(sample_size)  # Standard deviation estimate\n",
    "margin_of_error = t_critical * sigma\n",
    "\n",
    "confidence_interval = (sample_mean - margin_of_error,\n",
    "                       sample_mean + margin_of_error)  \n",
    "\n",
    "print(\"Confidence interval:\")\n",
    "print(confidence_interval)\n",
    "print(\"Margin of Error:\")\n",
    "print(margin_of_error)\n",
    "abnormal = ((max(confidence_interval)+margin_of_error),(min(confidence_interval)-margin_of_error))\n",
    "print(\"'Abnormal' temperatures would be outside of this range: \")\n",
    "print(abnormal)"
   ]
  },
  {
   "cell_type": "markdown",
   "metadata": {},
   "source": [
    "<h4> Given a t confidence interval (two sided), any temperature outside of [97.984 , 98.515] is \"abnormal\" e.i. out of the average population (though I don't love that distiction that \"not average\" means \"abnormal\".</h4>\n",
    "\n",
    "<a src='http://hamelg.blogspot.com/2015/11/python-for-data-analysis-part-23-point.html'> another good resource </a>"
   ]
  },
  {
   "cell_type": "markdown",
   "metadata": {},
   "source": [
    "<h4> Given a t confidence interval (two sided), any temperature outside of [97.984 , 98.515] is \"abnormal\" e.i. out of the average population (though I don't love that distiction that \"not average\" means \"abnormal\".</h4>\n",
    "\n",
    "<a src='http://hamelg.blogspot.com/2015/11/python-for-data-analysis-part-23-point.html'> another good resource </a>"
   ]
  },
  {
   "cell_type": "markdown",
   "metadata": {},
   "source": [
    "<h2>5. Is there a significant difference between males and females in normal temperature?</h2>"
   ]
  },
  {
   "cell_type": "markdown",
   "metadata": {},
   "source": [
    "<p>Use the two-sample t-test to determine whether the difference between means found in the sample is significantly different from the hypothesized difference between means </p>"
   ]
  },
  {
   "cell_type": "code",
   "execution_count": 31,
   "metadata": {
    "collapsed": false
   },
   "outputs": [],
   "source": [
    "diff_mean_test = scipy.stats.ttest_ind(df[df['gender']=='F']['temperature'],df[df['gender']=='M']['temperature'])"
   ]
  },
  {
   "cell_type": "code",
   "execution_count": 32,
   "metadata": {
    "collapsed": false
   },
   "outputs": [
    {
     "data": {
      "text/plain": [
       "Ttest_indResult(statistic=2.2854345381656103, pvalue=0.023931883122395609)"
      ]
     },
     "execution_count": 32,
     "metadata": {},
     "output_type": "execute_result"
    }
   ],
   "source": [
    "diff_mean_test\n"
   ]
  },
  {
   "cell_type": "markdown",
   "metadata": {},
   "source": [
    "<p>p-value of .024 is < .25 and therefore acceptable. There is a difference of means between men and women.</p>"
   ]
  }
 ],
 "metadata": {
  "kernelspec": {
   "display_name": "Python 3",
   "language": "python",
   "name": "python3"
  },
  "language_info": {
   "codemirror_mode": {
    "name": "ipython",
    "version": 3
   },
   "file_extension": ".py",
   "mimetype": "text/x-python",
   "name": "python",
   "nbconvert_exporter": "python",
   "pygments_lexer": "ipython3",
   "version": "3.6.0"
  }
 },
 "nbformat": 4,
 "nbformat_minor": 0
}
