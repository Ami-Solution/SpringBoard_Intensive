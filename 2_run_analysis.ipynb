{
 "cells": [
  {
   "cell_type": "markdown",
   "metadata": {
    "nbpresent": {
     "id": "0b79a287-b153-42ff-bcc6-e703ae2fe4a2"
    }
   },
   "source": [
    "<h1> Project Overview </h1>\n",
    "<p> from conversation 12/1/2016\n",
    "Robert wants to see installations over time for PG&E, SCE, SDG&E\n",
    " <br/>- average size and number of installations \n",
    " <br/>- vendors installation (pie chart) \n",
    "</p>\n",
    "<p> Source: https://www.californiasolarstatistics.ca.gov/data_downloads/ </p>\n",
    "<h2> Components/Timeline: </h2>\n",
    "    <ul>\n",
    "        <li> 1: Pull data (PYthon) and explration (Power Bi or Tabluae) for what will be analyzed. Determine what plots to use\n",
    "            <ul>\n",
    "                <li> Utility installations </li>\n",
    "                <li> installers vs installation over time </li>\n",
    "                <li> Could aslo look at installers with increasing rate of installation </li> \n",
    "                <li> Could also look at utility application time </li>\n",
    "                <li> ... </li>\n",
    "            </ul>\n",
    "        </li>\n",
    "        <li> 2: once we know what to do with the data, script in python to easily plot </li>\n",
    "        <li> 3: incorporate automatic pull from the web to plot them. </li>\n",
    "        <li> 4: Provide web/interactive plots </li>\n",
    "    </ul>"
   ]
  },
  {
   "cell_type": "markdown",
   "metadata": {},
   "source": [
    "<h1> 2. Run Analysis Script </h1>\n",
    "<p> Run this script AFTER running \"1_clean_and_filter\" script, which creates the clean data set loaded into this script (\"filtered_data.xlsx\")</p>\n",
    "<p> This will include:</p>\n",
    "<ol>\n",
    "    <li> Looking at the data and outputing dataframes for easy input into other visualization tools (like Power BI)</li>\n",
    "    <li> Plotting the data in python and generating these graphs, saving them to a list of pngs [] </li>\n",
    "    <li> Creating a results table (called 'res') for easy output to... (next step) </li>\n",
    "    <li> Outputting to an html template </li>\n",
    "</ol>"
   ]
  },
  {
   "cell_type": "code",
   "execution_count": 1,
   "metadata": {
    "collapsed": true
   },
   "outputs": [],
   "source": [
    "%matplotlib inline\n",
    "import os\n",
    "import pandas as pd\n",
    "import numpy as np\n",
    "import matplotlib.pyplot as pyplot\n",
    "import datetime as datetime\n",
    "import scipy as scipy\n",
    "from scipy.stats import mode\n",
    "from bokeh.charts import Bar, output_file, show\n"
   ]
  },
  {
   "cell_type": "code",
   "execution_count": 2,
   "metadata": {
    "collapsed": true
   },
   "outputs": [],
   "source": [
    "# Create Dataframe to hold results:\n",
    "res = pd.DataFrame(columns=['Result','Description'])\n",
    "def addnewres(result, description,refreshRes=False):\n",
    "    \"\"\"Function for adding new insights or results to a dataframe to later iterate through. ONly takes 2 arguments, the result and description, can be any type of data.\"\"\"\n",
    "    if refreshRes==True:\n",
    "        return pd.DataFrame(columns=['Result','Description'])\n",
    "    else:\n",
    "        dataApp = pd.DataFrame(columns=['Result','Description'])\n",
    "        dataApp.set_value(0, 'Result', result)\n",
    "        dataApp.set_value(0, 'Description', description)\n",
    "        return res.append(dataApp).reset_index(drop=True)"
   ]
  },
  {
   "cell_type": "markdown",
   "metadata": {
    "nbpresent": {
     "id": "39babe91-edd2-4dd6-a4e1-47146bfd6f04"
    }
   },
   "source": [
    "<h2>1. Analysis of NEM Current Interconnections</h2>"
   ]
  },
  {
   "cell_type": "code",
   "execution_count": 3,
   "metadata": {
    "collapsed": false
   },
   "outputs": [],
   "source": [
    "#Load Data\n",
    "filter_df = pd.read_excel('filtered_data.xlsx')"
   ]
  },
  {
   "cell_type": "code",
   "execution_count": 4,
   "metadata": {
    "collapsed": false
   },
   "outputs": [],
   "source": [
    "res = addnewres('','Removed top & bottom .5% of all systems based on size')"
   ]
  },
  {
   "cell_type": "markdown",
   "metadata": {
    "collapsed": false
   },
   "source": [
    "<h3> General code to look at data </h3>"
   ]
  },
  {
   "cell_type": "markdown",
   "metadata": {
    "collapsed": false,
    "nbpresent": {
     "id": "5594c530-c452-47a0-9ed8-f7a9652f61a7"
    }
   },
   "source": [
    "<h3>How do utilities compare?</h3>"
   ]
  },
  {
   "cell_type": "markdown",
   "metadata": {
    "nbpresent": {
     "id": "c488608f-1c43-4ffe-9fb1-a643a0b21f0b"
    }
   },
   "source": [
    "Seperate installs for each utility. System Size DC Capacity"
   ]
  },
  {
   "cell_type": "code",
   "execution_count": 5,
   "metadata": {
    "collapsed": false,
    "nbpresent": {
     "id": "b08c1e83-ec71-44ca-bc84-04f19c7c822e"
    }
   },
   "outputs": [
    {
     "data": {
      "text/plain": [
       "\"\\n# [utility]_installs is the capacity in kW that was added for each day\\nSCE = filter_df[filter_df['Utility'] == 'SCE']\\nSCE_installs = SCE.loc[0:,['System Size DC','App Approved Date']]\\nSCE_installs = SCE_installs.groupby(SCE_installs['App Approved Date']).sum()\\nSCE_installs = SCE_installs.dropna()\\n\\nPGE = filter_df[filter_df['Utility'] == 'PGE']\\nPGE_installs = PGE.loc[0:,['System Size DC','App Approved Date']]\\nPGE_installs = PGE_installs.groupby('App Approved Date').sum()\\nPGE_installs = PGE_installs.dropna()\\n\\nSDGE = filter_df[filter_df['Utility'] == 'SDGE']\\nSDGE_installs = SDGE.loc[0:,['System Size DC','App Approved Date']]\\nSDGE_installs = SDGE_installs.groupby('App Approved Date').sum()\\nSDGE_installs = SDGE_installs.dropna()\\n\""
      ]
     },
     "execution_count": 5,
     "metadata": {},
     "output_type": "execute_result"
    }
   ],
   "source": [
    "\"\"\"\n",
    "# [utility]_installs is the capacity in kW that was added for each day\n",
    "SCE = filter_df[filter_df['Utility'] == 'SCE']\n",
    "SCE_installs = SCE.loc[0:,['System Size DC','App Approved Date']]\n",
    "SCE_installs = SCE_installs.groupby(SCE_installs['App Approved Date']).sum()\n",
    "SCE_installs = SCE_installs.dropna()\n",
    "\n",
    "PGE = filter_df[filter_df['Utility'] == 'PGE']\n",
    "PGE_installs = PGE.loc[0:,['System Size DC','App Approved Date']]\n",
    "PGE_installs = PGE_installs.groupby('App Approved Date').sum()\n",
    "PGE_installs = PGE_installs.dropna()\n",
    "\n",
    "SDGE = filter_df[filter_df['Utility'] == 'SDGE']\n",
    "SDGE_installs = SDGE.loc[0:,['System Size DC','App Approved Date']]\n",
    "SDGE_installs = SDGE_installs.groupby('App Approved Date').sum()\n",
    "SDGE_installs = SDGE_installs.dropna()\n",
    "\"\"\""
   ]
  },
  {
   "cell_type": "markdown",
   "metadata": {
    "nbpresent": {
     "id": "886c4432-d5e3-4b02-920b-6f4f2df02dc6"
    }
   },
   "source": [
    "Aggregate over months, years, and quarters"
   ]
  },
  {
   "cell_type": "code",
   "execution_count": null,
   "metadata": {
    "collapsed": true,
    "nbpresent": {
     "id": "fa17edf4-f0ef-4947-8b47-f8c3f8cf5aa7"
    }
   },
   "outputs": [],
   "source": [
    "\"\"\"\n",
    "#aggregate monthly\n",
    "SCE_installs_monthly = SCE_installs.resample('M').sum()\n",
    "PGE_installs_monthly = PGE_installs.resample('M').sum()\n",
    "SDGE_installs_monthly = SDGE_installs.resample('M').sum()\n",
    "\n",
    "#aggregate yearly (sum at year end)\n",
    "SCE_installs_yearly = SCE_installs.resample('A').sum()\n",
    "PGE_installs_yearly = PGE_installs.resample('A').sum()\n",
    "SDGE_installs_yearly = SDGE_installs.resample('A').sum()\n",
    "\n",
    "#aggregate quarterly (sum at year end)\n",
    "SCE_installs_qly = SCE_installs.resample('3M').sum()\n",
    "PGE_installs_qly = PGE_installs.resample('3M').sum()\n",
    "SDGE_installs_qly = SDGE_installs.resample('3M').sum()\n",
    "\n",
    "#aggregate yearly installations (count not sum)\n",
    "SCE_installs_count_yearly = SCE_installs.resample('A').count()\n",
    "PGE_installs_count_yearly = PGE_installs.resample('A').count()\n",
    "SDGE_installs_count_yearly = SDGE_installs.resample('A').count()\n",
    "\"\"\""
   ]
  },
  {
   "cell_type": "code",
   "execution_count": 6,
   "metadata": {
    "collapsed": false,
    "nbpresent": {
     "id": "2cffbe7f-bfbd-44c7-ad1b-34b6f7ce1db2"
    }
   },
   "outputs": [],
   "source": [
    "#then record the latest App Approval date for results summary table to output to HTML\n",
    "date_S = pd.to_datetime(filter_df['App Approved Date'])\n",
    "res = addnewres(date_S.max().date(),'Last date recorded in data')\n",
    "del date_S #to free up space"
   ]
  },
  {
   "cell_type": "markdown",
   "metadata": {
    "collapsed": true
   },
   "source": [
    "<h4>Output a dataframe of the cummulative sum of system size DC (kw)</h4>"
   ]
  },
  {
   "cell_type": "code",
   "execution_count": 7,
   "metadata": {
    "collapsed": false
   },
   "outputs": [],
   "source": [
    "#get 4 columns seperately then merge in a dataframe cumm_I\n",
    "cols = ['System Size DC', 'Utility','App Approved Date']\n",
    "sel = filter_df[cols]\n",
    "sel = sel.dropna(axis=0,how='any')\n",
    "\n",
    "total_I = sel.groupby('App Approved Date').sum()\n",
    "total_I = total_I.cumsum()\n",
    "total_I = total_I/1000\n",
    "total_I = total_I.astype(int)\n",
    "\n",
    "SCE_I = sel[sel['Utility']=='SCE'].groupby('App Approved Date').sum()\n",
    "SCE_I = SCE_I.cumsum()\n",
    "SCE_I.name = 'SCE'\n",
    "SCE_I = SCE_I/1000\n",
    "SCE_I = SCE_I.astype(int)\n",
    "\n",
    "PGE_I = sel[sel['Utility']=='PGE'].groupby('App Approved Date').sum()\n",
    "PGE_I = PGE_I.cumsum()\n",
    "PGE_I.name = 'PGE'\n",
    "PGE_I = PGE_I/1000\n",
    "PGE_I = PGE_I.astype(int)\n",
    "\n",
    "SDGE_I = sel[sel['Utility']=='SDGE'].groupby('App Approved Date').sum()\n",
    "SDGE_I = SDGE_I.cumsum()\n",
    "SDGE_I.name = 'SDGE'\n",
    "SDGE_I = SDGE_I/1000\n",
    "SDGE_I = SDGE_I.astype(int)\n",
    "\n",
    "cumm_I = pd.DataFrame(index=total_I.index)\n",
    "\n",
    "cumm_I['Total'] = total_I\n",
    "\n",
    "cumm_I = cumm_I.join(PGE_I)\n",
    "cumm_I.columns = ['Total','PGE']\n",
    "\n",
    "cumm_I = cumm_I.join(SCE_I)\n",
    "cumm_I.columns = ['Total','PGE','SCE']\n",
    "\n",
    "\n",
    "cumm_I = cumm_I.join(SDGE_I)\n",
    "cumm_I.columns = ['Total','PGE','SCE','SDGE']\n",
    "\n",
    "\"\"\"\n",
    "cumm_I.plot(title='All Installations cummulative', legend=True)\n",
    "cumm_I[cumm_I.index.year>=2014].plot(title='Installations cummulative after 2013', legend=True)\n",
    "\"\"\"\n",
    "\n",
    "cumm_I.to_excel('output_dfs\\Cummulative Sum of System Size By Utility.xlsx')"
   ]
  },
  {
   "cell_type": "markdown",
   "metadata": {},
   "source": [
    "<h4> Output dataframe grouped by location (zip) and total installs (sum) and distinct </h4>"
   ]
  },
  {
   "cell_type": "code",
   "execution_count": 8,
   "metadata": {
    "collapsed": false
   },
   "outputs": [],
   "source": [
    "grpcity = filter_df.groupby('Service City')['System Size DC']\n",
    "col1 = grpcity.sum()\n",
    "col1.name='Sum Syst Size kW'\n",
    "col2 = grpcity.mean()\n",
    "col2.name='Avg Syst Size kW'\n",
    "col3 = grpcity.count()\n",
    "col3.name='Number of Installs'"
   ]
  },
  {
   "cell_type": "code",
   "execution_count": 9,
   "metadata": {
    "collapsed": true
   },
   "outputs": [],
   "source": [
    "grpcity = pd.concat([col1,col2,col3],axis=1,join='inner')"
   ]
  },
  {
   "cell_type": "code",
   "execution_count": 10,
   "metadata": {
    "collapsed": false
   },
   "outputs": [],
   "source": [
    "grpcity.to_excel('output_dfs/installations by city.xlsx')"
   ]
  },
  {
   "cell_type": "markdown",
   "metadata": {},
   "source": [
    "<h3>Vendor Breakdown: </h3>"
   ]
  },
  {
   "cell_type": "code",
   "execution_count": 11,
   "metadata": {
    "collapsed": false
   },
   "outputs": [],
   "source": [
    "# Find the top 10 vendor performance (# of installs and total install capacity) for each utilty\n",
    "vendor_sum = pd.DataFrame()\n",
    "\n",
    "for util in ['SCE','PGE','SDGE']:\n",
    "    col1 = filter_df[filter_df['Utility']==util].groupby('Installer Name')['System Size DC'].count().sort_values(ascending=False).head(10)\n",
    "    col1.name=\"Number of Installs\"\n",
    "\n",
    "    col2 = filter_df[filter_df['Utility']==util].groupby('Installer Name')['System Size DC'].sum().sort_values(ascending=False).head(10)/1000\n",
    "    col2.name=\"Total Capacity Installed (MW)\"\n",
    "\n",
    "    col3 = pd.Series( [util]*len(col2))\n",
    "    col3.index = col2.index\n",
    "    col3.name = \"Utility\"\n",
    "    \n",
    "    vdf = pd.concat([col1,col2,col3],axis=1,join='outer')\n",
    "    vendor_sum = vendor_sum.append( vdf )\n",
    "\n",
    "vendor_sum.to_excel('output_dfs/top vendors by utility.xlsx')"
   ]
  },
  {
   "cell_type": "code",
   "execution_count": 12,
   "metadata": {
    "collapsed": false
   },
   "outputs": [],
   "source": [
    "# Find the top 15 vendors in california\n",
    "col1 = filter_df.groupby('Installer Name')['System Size DC'].count().sort_values(ascending=False)/1000\n",
    "col1.name=\"Number of Installs\"\n",
    "col2 = filter_df.groupby('Installer Name')['System Size DC'].sum().sort_values(ascending=False)/1000\n",
    "col2.name=\"Total Capacity Installed (MW)\"\n",
    "\n",
    "topvendors = pd.concat([col1,col2],axis=1,join='outer').sort_values(['Total Capacity Installed (MW)','Number of Installs'],ascending=False).head(15)\n",
    "\n",
    "topvendors.to_excel('output_dfs/top vendors.xlsx')"
   ]
  },
  {
   "cell_type": "code",
   "execution_count": 25,
   "metadata": {
    "collapsed": false
   },
   "outputs": [],
   "source": [
    "SCE_app_time = pd.to_datetime(filter_df['App Complete Date'][filter_df['Utility']=='SCE']) - pd.to_datetime(filter_df['App Received Date'][filter_df['Utility']=='SCE'])\n",
    "PGE_app_time = pd.to_datetime(filter_df['App Complete Date'][filter_df['Utility']=='PGE']) - pd.to_datetime(filter_df['App Received Date'][filter_df['Utility']=='PGE'])\n",
    "SDGE_app_time = pd.to_datetime(filter_df['App Complete Date'][filter_df['Utility']=='SDGE']) - pd.to_datetime(filter_df['App Received Date'][filter_df['Utility']=='SDGE'])\n"
   ]
  },
  {
   "cell_type": "markdown",
   "metadata": {},
   "source": [
    "<h2>Plot results </h2>"
   ]
  },
  {
   "cell_type": "markdown",
   "metadata": {},
   "source": [
    "Plot nicely:"
   ]
  },
  {
   "cell_type": "code",
   "execution_count": null,
   "metadata": {
    "collapsed": true
   },
   "outputs": [],
   "source": [
    "pngs=[]\n",
    "pngscount=0"
   ]
  },
  {
   "cell_type": "code",
   "execution_count": null,
   "metadata": {
    "collapsed": false
   },
   "outputs": [],
   "source": [
    "# These are the \"Tableau 20\" colors as RGB. \n",
    "\n",
    "colorbrew = ['#7b3294','#5ab4ac','#A1ABA5','#d8b365','#c2a5cf','#a6dba0','#008837']\n",
    "\n",
    "tableau20 = [(31, 119, 180), (174, 199, 232), (255, 127, 14), (255, 187, 120),    \n",
    "             (44, 160, 44), (152, 223, 138), (214, 39, 40), (255, 152, 150),    \n",
    "             (148, 103, 189), (197, 176, 213), (140, 86, 75), (196, 156, 148),    \n",
    "             (227, 119, 194), (247, 182, 210), (127, 127, 127), (199, 199, 199),    \n",
    "             (188, 189, 34), (219, 219, 141), (23, 190, 207), (158, 218, 229)]    \n",
    "\n",
    "# Scale the RGB values to the [0, 1] range, which is the format matplotlib accepts.    \n",
    "for i in range(len(tableau20)):    \n",
    "    r, g, b = tableau20[i]    \n",
    "    tableau20[i] = (r / 255., g / 255., b / 255.)    \n",
    "\n",
    "#Change face color\n",
    "pyplot.rcParams['axes.facecolor'] = 'white'\n",
    "    \n",
    "# You typically want your plot to be ~1.33x wider than tall.     \n",
    "# Common sizes: (10, 7.5) and (12, 9)    \n",
    "pyplot.figure(figsize=((6*1.33),6))  \n",
    "\n",
    "# Remove the plot frame lines. They are unnecessary chartjunk.    \n",
    "ax = pyplot.subplot(111)    \n",
    "ax.spines[\"top\"].set_visible(False)    \n",
    "ax.spines[\"bottom\"].set_visible(False)    \n",
    "ax.spines[\"right\"].set_visible(False)    \n",
    "ax.spines[\"left\"].set_visible(False)    \n",
    "  \n",
    "# Ensure that the axis ticks only show up on the bottom and left of the plot.    \n",
    "# Ticks on the right and top of the plot are generally unnecessary chartjunk.    \n",
    "ax.get_xaxis().tick_bottom()    \n",
    "ax.get_yaxis().tick_left()    \n",
    "\n",
    "# Limit the range of the plot to only where the data is.    \n",
    "# Avoid unnecessary whitespace.    \n",
    "pyplot.ylim(0, cumm_I['Total'].max())    \n",
    "pyplot.xlim(cumm_I.index.date.min(), cumm_I.index.date.max())  \n",
    "\n",
    "  \n",
    "# Make sure your axis ticks are large enough to be easily read.    \n",
    "# You don't want your viewers squinting to read your plot.    \n",
    "pyplot.yticks(fontsize=14)    \n",
    "pyplot.xticks(fontsize=14)    \n",
    "\n",
    "\"\"\"\n",
    "# Provide tick lines across the plot to help your viewers trace along    \n",
    "# the axis ticks. Make sure that the lines are light and small so they    \n",
    "# don't obscure the primary data lines.    \n",
    "for y in range(10, 91, 10):    \n",
    "    plt.plot(range(1968, 2012), [y] * len(range(1968, 2012)), \"--\", lw=0.5, color=\"black\", alpha=0.3)    \n",
    "\"\"\" \n",
    "# Remove the tick marks; they are unnecessary with the tick lines we just plotted.    \n",
    "pyplot.tick_params(axis=\"both\", which=\"both\", bottom=\"off\", top=\"off\",    \n",
    "                labelbottom=\"on\", left=\"off\", right=\"off\", labelleft=\"on\")    \n",
    "  \n",
    "# Now that the plot is prepared, it's time to actually plot the data!    \n",
    "#     \n",
    "majors = cumm_I.columns\n",
    "\n",
    "for rank, column in enumerate(majors):    \n",
    "    # Plot each line separately with its own color, using the Tableau 20    \n",
    "    # color set in order.    \n",
    "    pyplot.plot(cumm_I.index.date,    \n",
    "            cumm_I[column].values,    \n",
    "            lw=4, color=colorbrew[rank])    \n",
    "  \n",
    "    # Add a text label to the right end of every line. Most of the code below    \n",
    "    # is adding specific offsets y position because some labels overlapped.    \n",
    "    y_pos = cumm_I[column].values[-1] - 0.5    \n",
    "    if column == \"Total\":    \n",
    "        y_pos += 0.5    \n",
    "    elif column == \"SCE\":    \n",
    "        y_pos -= 0.5    \n",
    "    elif column == \"PGE\":    \n",
    "        y_pos += 0.75    \n",
    "    elif column == \"SDGE\":    \n",
    "        y_pos -= 0.25    \n",
    "  \n",
    "  \n",
    "    # Again, make sure that all labels are large enough to be easily read    \n",
    "    # by the viewer.    \n",
    "    #pyplot.text(cumm_I.index.date.max(), y_pos, column, fontsize=14, color=tableau20[rank])    \n",
    "  \n",
    "# matplotlib's title() call centers the title on the plot, but not the graph,    \n",
    "# so I used the text() call to customize where the title goes.    \n",
    "  \n",
    "# Make the title big enough so it spans the entire plot, but don't make it    \n",
    "# so big that it requires two lines to show.    \n",
    "  \n",
    "# Note that if the title is descriptive enough, it is unnecessary to include    \n",
    "# axis labels; they are self-evident, in this plot's case.  \n",
    "\n",
    "pyplot.title(\"Solar PV installation capacity in California is increasing greatly over time\"    \n",
    "      , fontsize=17, ha=\"center\")    \n",
    "pyplot.ylabel(\"Installed Capacity MW\", fontsize=12) \n",
    "pyplot.legend(list(cumm_I.columns),loc = 'upper left',fontsize = 14)\n",
    "pngs.append(\"..//imgs//cummulative_PV_capacity_installed.png\")\n",
    "\n",
    "# Always include your data source(s) and copyright notice! And for your    \n",
    "# data sources, tell your viewers exactly where the data came from,    \n",
    "# preferably with a direct link to the data. Just telling your viewers    \n",
    "# that you used data from the \"U.S. Census Bureau\" is completely useless:    \n",
    "# the U.S. Census Bureau provides all kinds of data, so how are your    \n",
    "# viewers supposed to know which data set you used?    \n",
    "#pyplot.text(cumm_I.index.date.min(),  \"Data source: \", fontsize=10)    \n",
    "  \n",
    "# Finally, save the figure as a PNG.    \n",
    "# You can also save it as a PDF, JPEG, etc.    \n",
    "# Just change the file extension in this call.    \n",
    "# bbox_inches=\"tight\" removes all the extra whitespace on the edges of your plot.    \n",
    "pyplot.savefig(pngs[pngscount], bbox_inches=\"tight\")  "
   ]
  },
  {
   "cell_type": "code",
   "execution_count": null,
   "metadata": {
    "collapsed": false
   },
   "outputs": [],
   "source": [
    "# Now that the plot is prepared, it's time to actually plot the data!    \n",
    "#     \n",
    "majors = cumm_I.columns\n",
    "pyplot.figure(figsize=((6*1.33),6))  \n",
    "for rank, column in enumerate(majors):    \n",
    "    # Plot each line separately with its own color, using the Tableau 20    \n",
    "    # color set in order.    \n",
    "    pyplot.plot(cumm_I[cumm_I.index.year>=2014].index.date,    \n",
    "            cumm_I[cumm_I.index.year>=2014][column].values,    \n",
    "            lw=4, color=colorbrew[rank])    \n",
    "  \n",
    "    # Add a text label to the right end of every line. Most of the code below    \n",
    "    # is adding specific offsets y position because some labels overlapped.    \n",
    "    y_pos = cumm_I[column].values[-1] - 0.5    \n",
    "    if column == \"Total\":    \n",
    "        y_pos += 0.5    \n",
    "    elif column == \"SCE\":    \n",
    "        y_pos -= 0.5    \n",
    "    elif column == \"PGE\":    \n",
    "        y_pos += 0.75    \n",
    "    elif column == \"SDGE\":    \n",
    "        y_pos -= 0.25    \n",
    "  \n",
    "  \n",
    "    # Again, make sure that all labels are large enough to be easily read    \n",
    "    # by the viewer.    \n",
    "    #pyplot.text(cumm_I.index.date.max(), y_pos, column, fontsize=14, color=tableau20[rank])    \n",
    "  \n",
    "# matplotlib's title() call centers the title on the plot, but not the graph,    \n",
    "# so I used the text() call to customize where the title goes.    \n",
    "  \n",
    "# Make the title big enough so it spans the entire plot, but don't make it    \n",
    "# so big that it requires two lines to show.    \n",
    "  \n",
    "# Note that if the title is descriptive enough, it is unnecessary to include    \n",
    "# axis labels; they are self-evident, in this plot's case.    \n",
    "pyplot.title(\"A closer look shows that this adoption could be slowing\"    \n",
    "      , fontsize=17, ha=\"center\")    \n",
    "pyplot.ylabel(\"Installed Capacity MW\", fontsize=12) \n",
    "pyplot.legend(list(cumm_I.columns),loc = 'upper left',fontsize = 14)\n",
    "\n",
    "# Always include your data source(s) and copyright notice! And for your    \n",
    "# data sources, tell your viewers exactly where the data came from,    \n",
    "# preferably with a direct link to the data. Just telling your viewers    \n",
    "# that you used data from the \"U.S. Census Bureau\" is completely useless:    \n",
    "# the U.S. Census Bureau provides all kinds of data, so how are your    \n",
    "# viewers supposed to know which data set you used?    \n",
    "#pyplot.text(cumm_I.index.date.min(),  \"Data source: \", fontsize=10)    \n",
    "  \n",
    "# Finally, save the figure as a PNG.    \n",
    "# You can also save it as a PDF, JPEG, etc.    \n",
    "# Just change the file extension in this call.    \n",
    "# bbox_inches=\"tight\" removes all the extra whitespace on the edges of your plot. \n",
    "\n",
    "pngs.append(\"..//imgs//cummulative_PV_capacity_installed_zoom.png\")\n",
    "pngscount+=1\n",
    "pyplot.savefig(pngs[pngscount], bbox_inches=\"tight\")  \n"
   ]
  },
  {
   "cell_type": "code",
   "execution_count": null,
   "metadata": {
    "collapsed": false
   },
   "outputs": [],
   "source": [
    "pyplot.figure(figsize=((6*1.33),6))\n",
    "pyplot.plot(SCE_installs_monthly.index, SCE_installs_monthly['System Size DC'], linewidth=4, color=colorbrew[1], label='SCE')\n",
    "pyplot.plot(PGE_installs_monthly.index, PGE_installs_monthly['System Size DC'], linewidth=4, color=colorbrew[2], label='PGE')\n",
    "pyplot.plot(SDGE_installs_monthly.index, SDGE_installs_monthly['System Size DC'], linewidth=4, color=colorbrew[3], label='SDGE')\n",
    "pyplot.xlabel('Date',fontsize=14)\n",
    "pyplot.ylabel('Capacity kW',fontsize=14)\n",
    "pyplot.title('New Monthly Installed Capacity Added',fontsize=14)\n",
    "pyplot.legend(loc = 'upper left')\n",
    "\n",
    "\n",
    "pngs.append(\"..//imgs//monthly_install_cap_agg.png\")\n",
    "pngscount+=1\n",
    "pyplot.savefig(pngs[pngscount], bbox_inches=\"tight\")   \n",
    "\n",
    "pyplot.figure(figsize=((6*1.33),6))\n",
    "#aggregate monthly - Installs under 1MW\n",
    "SCE_installs_monthly = SCE_installs[SCE_installs['System Size DC']<1000].resample('M').sum()\n",
    "PGE_installs_monthly = PGE_installs[PGE_installs['System Size DC']<1000].resample('M').sum()\n",
    "SDGE_installs_monthly = SDGE_installs[SDGE_installs['System Size DC']<1000].resample('M').sum()\n",
    "\n",
    "pyplot.figure(figsize=((6*1.33),6))\n",
    "pyplot.plot(SCE_installs_monthly.index, SCE_installs_monthly['System Size DC'], linewidth=4, color=colorbrew[1], label='SCE') #green\n",
    "pyplot.plot(PGE_installs_monthly.index, PGE_installs_monthly['System Size DC'], linewidth=4, color=colorbrew[2], label='PGE') #black\n",
    "pyplot.plot(SDGE_installs_monthly.index, SDGE_installs_monthly['System Size DC'], linewidth=4, color=colorbrew[3], label='SDGE') #salmon\n",
    "pyplot.xlabel('Date')\n",
    "pyplot.ylabel('Monthly New Installed Capacity')\n",
    "pyplot.title('Capacity Added Monthly - Installations < 1MW')\n",
    "pyplot.legend()\n",
    "\n",
    "pngs.append(\"..//imgs//monthly_install_cap_agg_lessthan_1MW.png\")\n",
    "pngscount+=1\n",
    "pyplot.savefig(pngs[pngscount], bbox_inches=\"tight\")   "
   ]
  },
  {
   "cell_type": "markdown",
   "metadata": {
    "nbpresent": {
     "id": "4fefad29-ac58-47fc-9361-c53236200638"
    }
   },
   "source": [
    "<h2>Some Stats</h2>"
   ]
  },
  {
   "cell_type": "code",
   "execution_count": null,
   "metadata": {
    "collapsed": false
   },
   "outputs": [],
   "source": [
    "m = mode(filter_df['System Size DC'])[0]\n",
    "res = addnewres(m,'Most common System Size installed (Mode)')\n",
    "\n",
    "\n",
    "filter_df['System Size DC'].describe()\n",
    "\n",
    "res = addnewres(len(filter_df),'Total completed Applications Reported')\n",
    "res = addnewres(filter_df['System Size DC'].max(),'Biggest Installation Size')\n",
    "res = addnewres(filter_df['System Size DC'][filter_df['System Size DC']>0].min(),'Smallest Installation Size')\n",
    "\n",
    "res"
   ]
  },
  {
   "cell_type": "code",
   "execution_count": null,
   "metadata": {
    "collapsed": false
   },
   "outputs": [],
   "source": [
    "filter_df['System Size DC'][(filter_df['System Size DC']<20) & (filter_df['System Size DC']>0)].hist(bins=20,color = '#f5f5f5')\n",
    "pyplot.title('Histogram of solar installations by kW (showing only systems <20kW)',fontsize=14)\n",
    "pngs.append('..//imgs//hist_installs_size.png')\n",
    "pngscount+=1\n",
    "pyplot.savefig(pngs[pngscount], bbox_inches=\"tight\")   \n",
    "res = addnewres(str(filter_df['System Size DC'][(filter_df['System Size DC']<20) & (filter_df['System Size DC']>0)].count()*100/len(filter_df['System Size DC']))[:4]+'%','Most Sytems installed are less than 20 kW')"
   ]
  },
  {
   "cell_type": "markdown",
   "metadata": {
    "nbpresent": {
     "id": "a15b7cf8-e77d-4971-b0a7-5f7317f6b84f"
    }
   },
   "source": [
    "<h3>Vendor breakdown</h3>"
   ]
  },
  {
   "cell_type": "markdown",
   "metadata": {
    "nbpresent": {
     "id": "d86f31c1-4756-4735-be48-c12e1c15a9b5"
    }
   },
   "source": [
    "Top 20 Installers:"
   ]
  },
  {
   "cell_type": "code",
   "execution_count": null,
   "metadata": {
    "collapsed": true
   },
   "outputs": [],
   "source": [
    "vendors_top20 = filter_df['Installer Name'].value_counts().head(20)\n",
    "vendors_top10_SCE = filter_df['Installer Name'][filter_df['Utility']=='SCE'].value_counts().head(10)\n",
    "vendors_top10_PGE = filter_df['Installer Name'][filter_df['Utility']=='PGE'].value_counts().head(10)\n",
    "vendors_top10_SDGE = filter_df['Installer Name'][filter_df['Utility']=='SDGE'].value_counts().head(10)\n"
   ]
  },
  {
   "cell_type": "code",
   "execution_count": null,
   "metadata": {
    "collapsed": false,
    "nbpresent": {
     "id": "90e9d607-e5d5-48a6-9e10-caf1ef80c3fd"
    }
   },
   "outputs": [],
   "source": [
    "vendors_top20.plot(kind='barh',rot=0, fontsize=11, color = '#f5f5f5',title = 'Top 20 vendors in California  by # of installations')\n",
    "pngs.append(\"..//imgs//hist_vendors_top20.png\")\n",
    "pngscount+=1\n",
    "pyplot.savefig(pngs[pngscount], bbox_inches=\"tight\")   "
   ]
  },
  {
   "cell_type": "markdown",
   "metadata": {
    "nbpresent": {
     "id": "612eb2d1-8d8c-4993-8c67-1cb78f9f0d9b"
    }
   },
   "source": [
    "<h4>Installers by Utility</h4>"
   ]
  },
  {
   "cell_type": "code",
   "execution_count": null,
   "metadata": {
    "collapsed": false,
    "nbpresent": {
     "id": "8a8db3d2-260f-426d-b475-b96c13e7dd78"
    }
   },
   "outputs": [],
   "source": [
    "vendors_top10_SCE.plot(kind='barh',rot=0, color='#5ab4ac')\n",
    "vendors_top10_PGE.plot(kind='barh',rot=0, color='#f5f5f5')\n",
    "vendors_top10_SDGE.plot(kind='barh',rot=0, color='#d8b365')\n",
    "pyplot.xlabel('# of PV Installations Completed')\n",
    "pyplot.title(\"The top 10 installers in each IOU territory varies\")\n",
    "pyplot.legend(('SCE','PGE','SDGE'),fontsize=14)\n",
    "pngs.append(\"..//imgs//IOUs_top10_vendors.png\")\n",
    "pngscount+=1\n",
    "pyplot.savefig(pngs[3], bbox_inches=\"tight\") "
   ]
  },
  {
   "cell_type": "code",
   "execution_count": null,
   "metadata": {
    "collapsed": false
   },
   "outputs": [],
   "source": [
    "fig, (ax1,ax2,ax3) = pyplot.subplots(1,3, figsize=(14, 4))\n",
    "    \n",
    "top5_SCE = filter_df['Installer Name'][filter_df['Utility']=='SCE'].value_counts().head(5)\n",
    "top5_PGE = filter_df['Installer Name'][filter_df['Utility']=='PGE'].value_counts().head(5)\n",
    "top5_SDGE = filter_df['Installer Name'][filter_df['Utility']=='SDGE'].value_counts().head(5)\n",
    "\n",
    "top5_SCE.plot(title='SCE',ax=ax1,kind='barh',rot=0, color='#5ab4ac')\n",
    "top5_PGE.plot(title='PGE',ax=ax3,kind='barh',rot=0, color='#f5f5f5')\n",
    "top5_SDGE.plot(title='SDGE',ax=ax2,kind='barh',rot=0, color='#d8b365')\n",
    "\n",
    "ax2.set_xlabel('# of PV Installations Completed', fontsize=12)\n",
    "\n",
    "ax1.set_title(\"SCE\")\n",
    "ax3.set_title(\"PGE\")\n",
    "ax2.set_title(\"SDGE\")\n",
    "\n",
    "#fig.text(0,1,'Say something if you wnat here')\n",
    "\n",
    "xmax = max( (top5_SCE.max(),top5_PGE.max(),top5_SDGE.max()) )\n",
    "\n",
    "ax1.set_xlim(0,xmax)\n",
    "ax2.set_xlim(0,xmax)\n",
    "ax3.set_xlim(0,xmax)\n",
    "\n",
    "pngs.append(\"..//imgs//IOUs_top5_vendors.png\")\n",
    "pngscount+=1\n",
    "pyplot.savefig(pngs[3], bbox_inches=\"tight\")  \n"
   ]
  },
  {
   "cell_type": "markdown",
   "metadata": {},
   "source": [
    "<h2> Create Report in HTML</h>"
   ]
  },
  {
   "cell_type": "code",
   "execution_count": null,
   "metadata": {
    "collapsed": false
   },
   "outputs": [],
   "source": [
    "from bs4 import BeautifulSoup\n",
    "soup = BeautifulSoup(open(\"..//report_template.html\"),\"html\")\n",
    "\n",
    "results = res.to_html(bold_rows=False, index=False).replace('border=\"1\"','border=\"0\"')\n",
    "add_soup = BeautifulSoup(results)\n",
    "\n",
    "soup.table.contents = add_soup.table\n",
    "\n",
    "for png in pngs:\n",
    "    new_tag = soup.new_tag(\"img\", src=('imgs'+png[9:]))\n",
    "    soup.find(\"div\",{'id':'plotsdiv'}).append((new_tag))\n",
    "    soup.find(\"div\",{'id':'plotsdiv'}).append(soup.new_tag(\"br\"))\n",
    "    soup.find(\"div\",{'id':'plotsdiv'}).append(soup.new_tag(\"br\"))\n",
    "\n",
    "\n",
    "html = soup.prettify(\"utf-8\")\n",
    "with open(\"..//index.html\", \"wb\") as file:\n",
    "    file.write(html)"
   ]
  },
  {
   "cell_type": "code",
   "execution_count": null,
   "metadata": {
    "collapsed": false
   },
   "outputs": [],
   "source": [
    "cumm_I['SCE'].max()\n"
   ]
  },
  {
   "cell_type": "code",
   "execution_count": null,
   "metadata": {
    "collapsed": true
   },
   "outputs": [],
   "source": []
  }
 ],
 "metadata": {
  "anaconda-cloud": {},
  "kernelspec": {
   "display_name": "Python 3",
   "language": "python",
   "name": "python3"
  },
  "language_info": {
   "codemirror_mode": {
    "name": "ipython",
    "version": 3
   },
   "file_extension": ".py",
   "mimetype": "text/x-python",
   "name": "python",
   "nbconvert_exporter": "python",
   "pygments_lexer": "ipython3",
   "version": "3.6.0"
  },
  "nbpresent": {
   "slides": {
    "00393177-69f1-4783-9953-892e72f947e2": {
     "id": "00393177-69f1-4783-9953-892e72f947e2",
     "prev": "fa1814eb-2cb7-436e-87ae-10fe32dcb8d5",
     "regions": {
      "97734833-ca4b-40ce-952a-beb6891a7f97": {
       "attrs": {
        "height": 0.8,
        "width": 0.8,
        "x": 0.1,
        "y": 0.1
       },
       "content": {
        "cell": "96b1dde1-3004-4db8-b3ba-1fd88398fb54",
        "part": "whole"
       },
       "id": "97734833-ca4b-40ce-952a-beb6891a7f97"
      }
     }
    },
    "02f3e16f-5b3c-4972-9f6b-c1cf03b5cecc": {
     "id": "02f3e16f-5b3c-4972-9f6b-c1cf03b5cecc",
     "prev": "613369b9-7690-4f60-897f-cd5d8af9abf7",
     "regions": {
      "58f12e84-8694-4c59-aa29-79329488ebdb": {
       "attrs": {
        "height": 0.8,
        "width": 0.8,
        "x": 0.1,
        "y": 0.1
       },
       "content": {
        "cell": "356de3b3-0e0f-4cd7-b440-bfc661d9f3a7",
        "part": "whole"
       },
       "id": "58f12e84-8694-4c59-aa29-79329488ebdb"
      }
     }
    },
    "06775b54-d5d1-4b80-8efb-c0fb08083b2f": {
     "id": "06775b54-d5d1-4b80-8efb-c0fb08083b2f",
     "prev": "3bbb035e-8722-49d3-94a4-898cf5c6332f",
     "regions": {
      "0d94a5e6-a899-4455-be94-450fd747049a": {
       "attrs": {
        "height": 0.8,
        "width": 0.8,
        "x": 0.1,
        "y": 0.1
       },
       "content": {
        "cell": "62065060-4402-410a-bfbe-d387f7acc7c3",
        "part": "whole"
       },
       "id": "0d94a5e6-a899-4455-be94-450fd747049a"
      }
     }
    },
    "09d6cea4-e7d8-4909-98cf-6612dd96bff3": {
     "id": "09d6cea4-e7d8-4909-98cf-6612dd96bff3",
     "prev": "19f938d9-3958-4306-9bba-9408c437b8e4",
     "regions": {
      "6f2bc6f3-1efa-4a62-869a-473244aba26a": {
       "attrs": {
        "height": 0.8,
        "width": 0.8,
        "x": 0.1,
        "y": 0.1
       },
       "content": {
        "cell": "7930c771-0b49-4086-9bf5-8f988a9699ee",
        "part": "whole"
       },
       "id": "6f2bc6f3-1efa-4a62-869a-473244aba26a"
      }
     }
    },
    "0abfc9bb-d74d-4b0e-b472-8c82ff776f7f": {
     "id": "0abfc9bb-d74d-4b0e-b472-8c82ff776f7f",
     "prev": "99f945cb-aae6-40b5-b53e-4ddced175f82",
     "regions": {
      "eacc4108-950c-4c53-a416-55f057df2214": {
       "attrs": {
        "height": 0.8,
        "width": 0.8,
        "x": 0.1,
        "y": 0.1
       },
       "content": {
        "cell": "b5a9b782-9089-4295-8271-510ae604eed3",
        "part": "whole"
       },
       "id": "eacc4108-950c-4c53-a416-55f057df2214"
      }
     }
    },
    "0c60510f-3aa2-4a83-85b6-75852dbee977": {
     "id": "0c60510f-3aa2-4a83-85b6-75852dbee977",
     "prev": "5bfe7860-5300-466f-bf14-8b3ea352273d",
     "regions": {
      "e5e29011-f5d9-4212-a73a-ebc324ffb9ca": {
       "attrs": {
        "height": 0.8,
        "width": 0.8,
        "x": 0.1,
        "y": 0.1
       },
       "content": {
        "cell": "d5c1fdf7-f069-4228-bb3b-4b37eebd0a19",
        "part": "whole"
       },
       "id": "e5e29011-f5d9-4212-a73a-ebc324ffb9ca"
      }
     }
    },
    "0d3e2ce5-da58-4ea8-b938-157b4f0b7ba9": {
     "id": "0d3e2ce5-da58-4ea8-b938-157b4f0b7ba9",
     "prev": "b8256ae7-9f9c-438b-858f-09d518d82a4d",
     "regions": {
      "d5714258-285b-4ee7-aef0-37ef06ca6f64": {
       "attrs": {
        "height": 0.8,
        "width": 0.8,
        "x": 0.1,
        "y": 0.1
       },
       "content": {
        "cell": "71b64da0-fab0-4b5d-9d82-b09b84d0102a",
        "part": "whole"
       },
       "id": "d5714258-285b-4ee7-aef0-37ef06ca6f64"
      }
     }
    },
    "1051ecdf-2163-4660-a498-49546abc19b1": {
     "id": "1051ecdf-2163-4660-a498-49546abc19b1",
     "prev": "78b3caae-6bc6-454d-a472-d2cd23f29ca3",
     "regions": {
      "5bce6b47-9e13-415a-8afb-1fb9ee7b69a2": {
       "attrs": {
        "height": 0.8,
        "width": 0.8,
        "x": 0.1,
        "y": 0.1
       },
       "content": {
        "cell": "8019d2bb-2066-4906-9648-a2830ab053ae",
        "part": "whole"
       },
       "id": "5bce6b47-9e13-415a-8afb-1fb9ee7b69a2"
      }
     }
    },
    "14572afb-b874-4636-8170-013ed11cbbf7": {
     "id": "14572afb-b874-4636-8170-013ed11cbbf7",
     "prev": "b5225cf3-6e0e-4d80-98ea-edcadf53cd4c",
     "regions": {
      "636b5fea-bc1b-4d7e-a138-dc91b571d447": {
       "attrs": {
        "height": 0.8,
        "width": 0.8,
        "x": 0.1,
        "y": 0.1
       },
       "content": {
        "cell": "8bfb8eff-0435-449e-9d5d-0b13661fb0d5",
        "part": "whole"
       },
       "id": "636b5fea-bc1b-4d7e-a138-dc91b571d447"
      }
     }
    },
    "19f938d9-3958-4306-9bba-9408c437b8e4": {
     "id": "19f938d9-3958-4306-9bba-9408c437b8e4",
     "prev": "14572afb-b874-4636-8170-013ed11cbbf7",
     "regions": {
      "75e007d0-482d-4903-aaeb-7c2a40715cf0": {
       "attrs": {
        "height": 0.8,
        "width": 0.8,
        "x": 0.1,
        "y": 0.1
       },
       "content": {
        "cell": "25c96a10-4ee4-431b-8370-5cea0d3b8da2",
        "part": "whole"
       },
       "id": "75e007d0-482d-4903-aaeb-7c2a40715cf0"
      }
     }
    },
    "1dc8bae3-8774-4a91-83df-0e07632fa534": {
     "id": "1dc8bae3-8774-4a91-83df-0e07632fa534",
     "prev": "dee105f1-4909-4367-8844-d9f87bb74306",
     "regions": {
      "ae6e7bc0-4069-461f-a46f-f368f407f7d0": {
       "attrs": {
        "height": 0.8,
        "width": 0.8,
        "x": 0.1,
        "y": 0.1
       },
       "content": {
        "cell": "efe68777-7ce9-44a5-9796-6f4d0f5909cb",
        "part": "whole"
       },
       "id": "ae6e7bc0-4069-461f-a46f-f368f407f7d0"
      }
     }
    },
    "29f57c91-2441-4b2c-9599-12917416733d": {
     "id": "29f57c91-2441-4b2c-9599-12917416733d",
     "prev": "3d89691a-39db-4ede-b623-ae437b1bb40d",
     "regions": {
      "b1cdf10a-8208-414e-9a86-3459b60cc4cc": {
       "attrs": {
        "height": 0.8,
        "width": 0.8,
        "x": 0.1,
        "y": 0.1
       },
       "content": {
        "cell": "aaaa826f-ce90-4b80-a1b4-751b8686540d",
        "part": "whole"
       },
       "id": "b1cdf10a-8208-414e-9a86-3459b60cc4cc"
      }
     }
    },
    "2ba05b36-c6ae-4860-9ef7-1da0fbdae980": {
     "id": "2ba05b36-c6ae-4860-9ef7-1da0fbdae980",
     "prev": "5a32f71a-b6e1-4c4b-aadf-330387dc5126",
     "regions": {
      "97ba2357-92e6-4a01-b367-34a7c63633b7": {
       "attrs": {
        "height": 0.8,
        "width": 0.8,
        "x": 0.1,
        "y": 0.1
       },
       "content": {
        "cell": "d3669297-d37a-407b-b8cc-0f477ffed6b8",
        "part": "whole"
       },
       "id": "97ba2357-92e6-4a01-b367-34a7c63633b7"
      }
     }
    },
    "310c9a0e-69d3-4b22-bbac-be6ebb0589ab": {
     "id": "310c9a0e-69d3-4b22-bbac-be6ebb0589ab",
     "prev": "0c60510f-3aa2-4a83-85b6-75852dbee977",
     "regions": {
      "f02acb6a-7261-4db2-a5fb-a5f11c12a716": {
       "attrs": {
        "height": 0.8,
        "width": 0.8,
        "x": 0.1,
        "y": 0.1
       },
       "content": {
        "cell": "eaf2035e-36ef-4884-a6e5-6e84e35bd3aa",
        "part": "whole"
       },
       "id": "f02acb6a-7261-4db2-a5fb-a5f11c12a716"
      }
     }
    },
    "3478dbd6-62b3-4e83-998e-3a0fe6909e2e": {
     "id": "3478dbd6-62b3-4e83-998e-3a0fe6909e2e",
     "prev": "5f422faf-22d3-48f2-89da-05c3e8c31638",
     "regions": {
      "1eac804d-3a3f-4cd8-a20e-97c68a48c5bd": {
       "attrs": {
        "height": 0.8,
        "width": 0.8,
        "x": 0.1,
        "y": 0.1
       },
       "content": {
        "cell": "353edd79-7f0a-40e1-8e87-030d284eeb41",
        "part": "whole"
       },
       "id": "1eac804d-3a3f-4cd8-a20e-97c68a48c5bd"
      }
     }
    },
    "3a423704-b534-4523-a8fa-3ce87ff77a80": {
     "id": "3a423704-b534-4523-a8fa-3ce87ff77a80",
     "prev": "f365e1ac-efd6-48b7-be45-f0ad22bcb516",
     "regions": {
      "75dc7caf-7c19-485d-bef2-e0bc7821ad7d": {
       "attrs": {
        "height": 0.8,
        "width": 0.8,
        "x": 0.1,
        "y": 0.1
       },
       "content": {
        "cell": "2cc86836-f7ca-49b7-af8c-bef71a5ee9cc",
        "part": "whole"
       },
       "id": "75dc7caf-7c19-485d-bef2-e0bc7821ad7d"
      }
     }
    },
    "3ac8dd26-3da6-4053-be6a-abf1a56fdc52": {
     "id": "3ac8dd26-3da6-4053-be6a-abf1a56fdc52",
     "prev": "02f3e16f-5b3c-4972-9f6b-c1cf03b5cecc",
     "regions": {
      "eb053582-2035-4155-8151-fd42946d3ae4": {
       "attrs": {
        "height": 0.8,
        "width": 0.8,
        "x": 0.1,
        "y": 0.1
       },
       "content": {
        "cell": "f033e434-748b-4f4e-951e-0ffbadbbab7d",
        "part": "whole"
       },
       "id": "eb053582-2035-4155-8151-fd42946d3ae4"
      }
     }
    },
    "3bac20c1-5a70-41dd-8c8e-50227b069705": {
     "id": "3bac20c1-5a70-41dd-8c8e-50227b069705",
     "prev": "da272d48-2679-4114-8a48-ba68191ed6df",
     "regions": {
      "cf949222-986c-4366-9152-92c9d41107dd": {
       "attrs": {
        "height": 0.8,
        "width": 0.8,
        "x": 0.1,
        "y": 0.1
       },
       "content": {
        "cell": "8a8db3d2-260f-426d-b475-b96c13e7dd78",
        "part": "whole"
       },
       "id": "cf949222-986c-4366-9152-92c9d41107dd"
      }
     }
    },
    "3bbb035e-8722-49d3-94a4-898cf5c6332f": {
     "id": "3bbb035e-8722-49d3-94a4-898cf5c6332f",
     "prev": "3ac8dd26-3da6-4053-be6a-abf1a56fdc52",
     "regions": {
      "e631b52e-c6a7-421b-aa86-9e362164186c": {
       "attrs": {
        "height": 0.8,
        "width": 0.8,
        "x": 0.1,
        "y": 0.1
       },
       "content": {
        "cell": "d7f9d997-a032-46af-b249-9328db0323de",
        "part": "whole"
       },
       "id": "e631b52e-c6a7-421b-aa86-9e362164186c"
      }
     }
    },
    "3d89691a-39db-4ede-b623-ae437b1bb40d": {
     "id": "3d89691a-39db-4ede-b623-ae437b1bb40d",
     "prev": "8db1bf80-9266-4009-9fe0-cc70cbdda2e1",
     "regions": {
      "2b0552f4-5220-4357-ba9e-058caf15a664": {
       "attrs": {
        "height": 0.8,
        "width": 0.8,
        "x": 0.1,
        "y": 0.1
       },
       "content": {
        "cell": "e0c1d587-2929-45e7-ae29-b22e1de28014",
        "part": "whole"
       },
       "id": "2b0552f4-5220-4357-ba9e-058caf15a664"
      }
     }
    },
    "412156d0-9607-48f2-9348-83ee56775c6a": {
     "id": "412156d0-9607-48f2-9348-83ee56775c6a",
     "prev": "9bceeba9-e94f-4c1f-8c92-66b6a614d767",
     "regions": {
      "c43b809a-5b81-4a99-9e4a-adf2cf6bbb25": {
       "attrs": {
        "height": 0.8,
        "width": 0.8,
        "x": 0.1,
        "y": 0.1
       },
       "content": {
        "cell": "ed83d00f-6cf6-45f0-b34d-24bf04e64096",
        "part": "whole"
       },
       "id": "c43b809a-5b81-4a99-9e4a-adf2cf6bbb25"
      }
     }
    },
    "497b3881-b1e4-456d-9308-289b8d6a5256": {
     "id": "497b3881-b1e4-456d-9308-289b8d6a5256",
     "prev": "bbd7799a-3ebe-49fa-9b8e-1f60f12c29d6",
     "regions": {
      "499250ff-0145-4513-bb41-f56f90b56c1a": {
       "attrs": {
        "height": 0.8,
        "width": 0.8,
        "x": 0.1,
        "y": 0.1
       },
       "content": {
        "cell": "886c4432-d5e3-4b02-920b-6f4f2df02dc6",
        "part": "whole"
       },
       "id": "499250ff-0145-4513-bb41-f56f90b56c1a"
      }
     }
    },
    "4b145280-a3e7-469d-8341-62b5b6edaa15": {
     "id": "4b145280-a3e7-469d-8341-62b5b6edaa15",
     "prev": "9e6d4a27-28b5-41bc-bc14-763fc9117e81",
     "regions": {
      "181c44cc-d504-4ec4-ad7b-2ee54ad0f907": {
       "attrs": {
        "height": 0.8,
        "width": 0.8,
        "x": 0.1,
        "y": 0.1
       },
       "content": {
        "cell": "f2959d83-ec3c-4fb8-a724-3f6e84b085df",
        "part": "whole"
       },
       "id": "181c44cc-d504-4ec4-ad7b-2ee54ad0f907"
      }
     }
    },
    "4ce11e7f-c4c5-4497-99e3-6b3ae4988b69": {
     "id": "4ce11e7f-c4c5-4497-99e3-6b3ae4988b69",
     "prev": "cfa906f7-b0dc-45d4-9c10-93e65ee8c9fc",
     "regions": {
      "78d17fd0-55c4-4086-a3a1-a48fcdb3822e": {
       "attrs": {
        "height": 0.8,
        "width": 0.8,
        "x": 0.1,
        "y": 0.1
       },
       "content": {
        "cell": "dfdc35aa-d682-45de-92f2-eeb161c88736",
        "part": "whole"
       },
       "id": "78d17fd0-55c4-4086-a3a1-a48fcdb3822e"
      }
     }
    },
    "5795f835-4d6f-4ae9-8ba8-97bc42289ff6": {
     "id": "5795f835-4d6f-4ae9-8ba8-97bc42289ff6",
     "prev": "2ba05b36-c6ae-4860-9ef7-1da0fbdae980",
     "regions": {
      "1af95a68-8830-433d-a82e-f5eb145d2857": {
       "attrs": {
        "height": 0.8,
        "width": 0.8,
        "x": 0.1,
        "y": 0.1
       },
       "content": {
        "cell": "39babe91-edd2-4dd6-a4e1-47146bfd6f04",
        "part": "whole"
       },
       "id": "1af95a68-8830-433d-a82e-f5eb145d2857"
      }
     }
    },
    "5a32f71a-b6e1-4c4b-aadf-330387dc5126": {
     "id": "5a32f71a-b6e1-4c4b-aadf-330387dc5126",
     "prev": null,
     "regions": {
      "2039644e-7972-443b-bcbb-8d6f7e7045d9": {
       "attrs": {
        "height": 0.8,
        "width": 0.8,
        "x": 0.1,
        "y": 0.1
       },
       "content": {
        "cell": "0b79a287-b153-42ff-bcc6-e703ae2fe4a2",
        "part": "whole"
       },
       "id": "2039644e-7972-443b-bcbb-8d6f7e7045d9"
      }
     }
    },
    "5bfe7860-5300-466f-bf14-8b3ea352273d": {
     "id": "5bfe7860-5300-466f-bf14-8b3ea352273d",
     "prev": "3478dbd6-62b3-4e83-998e-3a0fe6909e2e",
     "regions": {
      "3d674df7-a85b-4355-b413-f28f80badb21": {
       "attrs": {
        "height": 0.8,
        "width": 0.8,
        "x": 0.1,
        "y": 0.1
       },
       "content": {
        "cell": "f20af959-f1d7-4d92-9dd7-2f159a6d91d3",
        "part": "whole"
       },
       "id": "3d674df7-a85b-4355-b413-f28f80badb21"
      }
     }
    },
    "5f422faf-22d3-48f2-89da-05c3e8c31638": {
     "id": "5f422faf-22d3-48f2-89da-05c3e8c31638",
     "prev": "0abfc9bb-d74d-4b0e-b472-8c82ff776f7f",
     "regions": {
      "fc81385b-90da-4e5e-8f7e-1d99e8b40cd4": {
       "attrs": {
        "height": 0.8,
        "width": 0.8,
        "x": 0.1,
        "y": 0.1
       },
       "content": {
        "cell": "5eb73968-00d2-448e-8e7a-0ede16a6d2c0",
        "part": "whole"
       },
       "id": "fc81385b-90da-4e5e-8f7e-1d99e8b40cd4"
      }
     }
    },
    "5f5b0fca-8dc6-40c5-a745-64792445b3e0": {
     "id": "5f5b0fca-8dc6-40c5-a745-64792445b3e0",
     "prev": "7c818aa5-df98-4285-8a3a-6cc1c2964287",
     "regions": {
      "0354e2ea-1f3c-4139-8c18-c92099f7f4ff": {
       "attrs": {
        "height": 0.8,
        "width": 0.8,
        "x": 0.1,
        "y": 0.1
       },
       "content": {
        "cell": "83c0050a-1332-4d5d-a24c-a77edace8f45",
        "part": "whole"
       },
       "id": "0354e2ea-1f3c-4139-8c18-c92099f7f4ff"
      }
     }
    },
    "613369b9-7690-4f60-897f-cd5d8af9abf7": {
     "id": "613369b9-7690-4f60-897f-cd5d8af9abf7",
     "prev": "310c9a0e-69d3-4b22-bbac-be6ebb0589ab",
     "regions": {
      "870ca119-4732-40dc-8727-1c56347b0e07": {
       "attrs": {
        "height": 0.8,
        "width": 0.8,
        "x": 0.1,
        "y": 0.1
       },
       "content": {
        "cell": "de1757cf-b3be-4791-83ea-43011dde8a03",
        "part": "whole"
       },
       "id": "870ca119-4732-40dc-8727-1c56347b0e07"
      }
     }
    },
    "62135981-0d6d-42cb-a1cf-9675410d1add": {
     "id": "62135981-0d6d-42cb-a1cf-9675410d1add",
     "prev": "06775b54-d5d1-4b80-8efb-c0fb08083b2f",
     "regions": {
      "66b6589f-1ed6-46ae-b558-4412dba38757": {
       "attrs": {
        "height": 0.8,
        "width": 0.8,
        "x": 0.1,
        "y": 0.1
       },
       "content": {
        "cell": "c1d79161-ed7b-4b63-9a77-99ba15639ec4",
        "part": "whole"
       },
       "id": "66b6589f-1ed6-46ae-b558-4412dba38757"
      }
     }
    },
    "65c16bca-f682-4247-b3df-15d0bbbaae5b": {
     "id": "65c16bca-f682-4247-b3df-15d0bbbaae5b",
     "prev": "c1ed4f1f-f35b-4186-982f-4a590e520c6d",
     "regions": {
      "bcf9a7ea-065a-427a-81f8-316bfa66d886": {
       "attrs": {
        "height": 0.8,
        "width": 0.8,
        "x": 0.1,
        "y": 0.1
       },
       "content": {
        "cell": "2c627786-63da-4aec-97e6-56a686125368",
        "part": "whole"
       },
       "id": "bcf9a7ea-065a-427a-81f8-316bfa66d886"
      }
     }
    },
    "78b3caae-6bc6-454d-a472-d2cd23f29ca3": {
     "id": "78b3caae-6bc6-454d-a472-d2cd23f29ca3",
     "prev": "65c16bca-f682-4247-b3df-15d0bbbaae5b",
     "regions": {
      "33a54fc0-3a5c-4c88-83ad-7d4fb023ef16": {
       "attrs": {
        "height": 0.8,
        "width": 0.8,
        "x": 0.1,
        "y": 0.1
       },
       "content": {
        "cell": "4180179f-efe0-415f-9557-2e5e04619f2d",
        "part": "whole"
       },
       "id": "33a54fc0-3a5c-4c88-83ad-7d4fb023ef16"
      }
     }
    },
    "79ffb801-4f71-4602-a3e4-47d7319e1d5b": {
     "id": "79ffb801-4f71-4602-a3e4-47d7319e1d5b",
     "prev": "5f5b0fca-8dc6-40c5-a745-64792445b3e0",
     "regions": {
      "7ff5e09c-7597-4bab-9bcf-7ff66927d9ec": {
       "attrs": {
        "height": 0.8,
        "width": 0.8,
        "x": 0.1,
        "y": 0.1
       },
       "content": {
        "cell": "9c3a5896-8356-48e7-bfb2-c59546524df1",
        "part": "whole"
       },
       "id": "7ff5e09c-7597-4bab-9bcf-7ff66927d9ec"
      }
     }
    },
    "7c818aa5-df98-4285-8a3a-6cc1c2964287": {
     "id": "7c818aa5-df98-4285-8a3a-6cc1c2964287",
     "prev": "d2e14723-f09d-42ce-84c6-0add1858f6bf",
     "regions": {
      "5a6c212e-ca48-4c13-818f-9f7092f9b242": {
       "attrs": {
        "height": 0.8,
        "width": 0.8,
        "x": 0.1,
        "y": 0.1
       },
       "content": {
        "cell": "6291f90e-5081-483c-a894-1633f67441d2",
        "part": "whole"
       },
       "id": "5a6c212e-ca48-4c13-818f-9f7092f9b242"
      }
     }
    },
    "7ee89ba1-2ad1-4982-861c-c456df96bb13": {
     "id": "7ee89ba1-2ad1-4982-861c-c456df96bb13",
     "prev": "3a423704-b534-4523-a8fa-3ce87ff77a80",
     "regions": {
      "e0f567f9-d6e8-4a27-9624-45e2334eebed": {
       "attrs": {
        "height": 0.8,
        "width": 0.8,
        "x": 0.1,
        "y": 0.1
       },
       "content": {
        "cell": "004c7e0d-7c4e-4ddf-b5ec-48f9ca845bff",
        "part": "whole"
       },
       "id": "e0f567f9-d6e8-4a27-9624-45e2334eebed"
      }
     }
    },
    "8aa8c676-3c40-4225-b690-81d4f0b41a23": {
     "id": "8aa8c676-3c40-4225-b690-81d4f0b41a23",
     "prev": "f243b6fb-43f2-4474-853d-f579331daba7",
     "regions": {
      "090379ee-3420-422c-b436-f15dc45718cd": {
       "attrs": {
        "height": 0.8,
        "width": 0.8,
        "x": 0.1,
        "y": 0.1
       },
       "content": {
        "cell": "96376598-91ae-42af-abf5-33cb73461959",
        "part": "whole"
       },
       "id": "090379ee-3420-422c-b436-f15dc45718cd"
      }
     }
    },
    "8db1bf80-9266-4009-9fe0-cc70cbdda2e1": {
     "id": "8db1bf80-9266-4009-9fe0-cc70cbdda2e1",
     "prev": "1dc8bae3-8774-4a91-83df-0e07632fa534",
     "regions": {
      "1ce2216f-3ffc-49a7-8bd4-d2a29c1b47ef": {
       "attrs": {
        "height": 0.8,
        "width": 0.8,
        "x": 0.1,
        "y": 0.1
       },
       "content": {
        "cell": "67ab988b-a667-40b9-8d1d-b5a5726d4531",
        "part": "whole"
       },
       "id": "1ce2216f-3ffc-49a7-8bd4-d2a29c1b47ef"
      }
     }
    },
    "9622014c-d27e-4b3f-86af-3d0a7f070057": {
     "id": "9622014c-d27e-4b3f-86af-3d0a7f070057",
     "prev": "8aa8c676-3c40-4225-b690-81d4f0b41a23",
     "regions": {
      "c2835d7b-2269-4522-9468-c775ead71ebd": {
       "attrs": {
        "height": 0.8,
        "width": 0.8,
        "x": 0.1,
        "y": 0.1
       },
       "content": {
        "cell": "d86f31c1-4756-4735-be48-c12e1c15a9b5",
        "part": "whole"
       },
       "id": "c2835d7b-2269-4522-9468-c775ead71ebd"
      }
     }
    },
    "99f945cb-aae6-40b5-b53e-4ddced175f82": {
     "id": "99f945cb-aae6-40b5-b53e-4ddced175f82",
     "prev": "497b3881-b1e4-456d-9308-289b8d6a5256",
     "regions": {
      "da5e74a6-e3d2-4959-838d-82919b02139e": {
       "attrs": {
        "height": 0.8,
        "width": 0.8,
        "x": 0.1,
        "y": 0.1
       },
       "content": {
        "cell": "fa17edf4-f0ef-4947-8b47-f8c3f8cf5aa7",
        "part": "whole"
       },
       "id": "da5e74a6-e3d2-4959-838d-82919b02139e"
      }
     }
    },
    "9bceeba9-e94f-4c1f-8c92-66b6a614d767": {
     "id": "9bceeba9-e94f-4c1f-8c92-66b6a614d767",
     "prev": "1051ecdf-2163-4660-a498-49546abc19b1",
     "regions": {
      "c0b96ab6-b261-4ce7-ba85-f57af7c28a26": {
       "attrs": {
        "height": 0.8,
        "width": 0.8,
        "x": 0.1,
        "y": 0.1
       },
       "content": {
        "cell": "fd98dbb4-4359-4eeb-a5e9-f9033b0f2d28",
        "part": "whole"
       },
       "id": "c0b96ab6-b261-4ce7-ba85-f57af7c28a26"
      }
     }
    },
    "9cea881d-d866-42d1-927f-58a68032556f": {
     "id": "9cea881d-d866-42d1-927f-58a68032556f",
     "prev": "0d3e2ce5-da58-4ea8-b938-157b4f0b7ba9",
     "regions": {
      "d1e44524-85cf-4c5f-9847-5d92b6ada8ad": {
       "attrs": {
        "height": 0.8,
        "width": 0.8,
        "x": 0.1,
        "y": 0.1
       },
       "content": {
        "cell": "5594c530-c452-47a0-9ed8-f7a9652f61a7",
        "part": "whole"
       },
       "id": "d1e44524-85cf-4c5f-9847-5d92b6ada8ad"
      }
     }
    },
    "9e6d4a27-28b5-41bc-bc14-763fc9117e81": {
     "id": "9e6d4a27-28b5-41bc-bc14-763fc9117e81",
     "prev": "7ee89ba1-2ad1-4982-861c-c456df96bb13",
     "regions": {
      "3406db8f-198a-4d40-89fe-8f8247d9333a": {
       "attrs": {
        "height": 0.8,
        "width": 0.8,
        "x": 0.1,
        "y": 0.1
       },
       "content": {
        "cell": "624f7e5b-56c2-4673-82d1-be0fc1c24882",
        "part": "whole"
       },
       "id": "3406db8f-198a-4d40-89fe-8f8247d9333a"
      }
     }
    },
    "b5225cf3-6e0e-4d80-98ea-edcadf53cd4c": {
     "id": "b5225cf3-6e0e-4d80-98ea-edcadf53cd4c",
     "prev": "62135981-0d6d-42cb-a1cf-9675410d1add",
     "regions": {
      "dfc0c87f-326f-4d9f-9f59-fa2543821d8b": {
       "attrs": {
        "height": 0.8,
        "width": 0.8,
        "x": 0.1,
        "y": 0.1
       },
       "content": {
        "cell": "2cffbe7f-bfbd-44c7-ad1b-34b6f7ce1db2",
        "part": "whole"
       },
       "id": "dfc0c87f-326f-4d9f-9f59-fa2543821d8b"
      }
     }
    },
    "b7e5967c-cdd9-4eba-9b37-6b9586e9e3b8": {
     "id": "b7e5967c-cdd9-4eba-9b37-6b9586e9e3b8",
     "prev": "e807828d-1b8f-484c-9158-9624b7d7a3a3",
     "regions": {
      "cb7b6162-8aa6-4bf6-8502-473405ccedfc": {
       "attrs": {
        "height": 0.8,
        "width": 0.8,
        "x": 0.1,
        "y": 0.1
       },
       "content": {
        "cell": "8ad6485e-4415-42d9-9b8e-b821ccef0525",
        "part": "whole"
       },
       "id": "cb7b6162-8aa6-4bf6-8502-473405ccedfc"
      }
     }
    },
    "b8256ae7-9f9c-438b-858f-09d518d82a4d": {
     "id": "b8256ae7-9f9c-438b-858f-09d518d82a4d",
     "prev": "29f57c91-2441-4b2c-9599-12917416733d",
     "regions": {
      "9107167b-ea9a-4215-8e89-7b828168133f": {
       "attrs": {
        "height": 0.8,
        "width": 0.8,
        "x": 0.1,
        "y": 0.1
       },
       "content": {
        "cell": "6df2704a-935b-4ffa-86c6-a10e8d14eb6d",
        "part": "whole"
       },
       "id": "9107167b-ea9a-4215-8e89-7b828168133f"
      }
     }
    },
    "bbd7799a-3ebe-49fa-9b8e-1f60f12c29d6": {
     "id": "bbd7799a-3ebe-49fa-9b8e-1f60f12c29d6",
     "prev": "e051f46f-40d6-4c91-97f8-a76679f6b176",
     "regions": {
      "571fe8e3-fd6b-4797-baf4-d4a7849babcb": {
       "attrs": {
        "height": 0.8,
        "width": 0.8,
        "x": 0.1,
        "y": 0.1
       },
       "content": {
        "cell": "b08c1e83-ec71-44ca-bc84-04f19c7c822e",
        "part": "whole"
       },
       "id": "571fe8e3-fd6b-4797-baf4-d4a7849babcb"
      }
     }
    },
    "c1ed4f1f-f35b-4186-982f-4a590e520c6d": {
     "id": "c1ed4f1f-f35b-4186-982f-4a590e520c6d",
     "prev": "3bac20c1-5a70-41dd-8c8e-50227b069705",
     "regions": {
      "79d32662-138c-445c-9e60-083f4a445967": {
       "attrs": {
        "height": 0.8,
        "width": 0.8,
        "x": 0.1,
        "y": 0.1
       },
       "content": {
        "cell": "c15e50b4-da7a-4fa1-9ea0-62f7272bdce4",
        "part": "whole"
       },
       "id": "79d32662-138c-445c-9e60-083f4a445967"
      }
     }
    },
    "cfa906f7-b0dc-45d4-9c10-93e65ee8c9fc": {
     "id": "cfa906f7-b0dc-45d4-9c10-93e65ee8c9fc",
     "prev": "09d6cea4-e7d8-4909-98cf-6612dd96bff3",
     "regions": {
      "ede7f86d-eba4-4207-af18-1ca9bd506a16": {
       "attrs": {
        "height": 0.8,
        "width": 0.8,
        "x": 0.1,
        "y": 0.1
       },
       "content": {
        "cell": "4fefad29-ac58-47fc-9361-c53236200638",
        "part": "whole"
       },
       "id": "ede7f86d-eba4-4207-af18-1ca9bd506a16"
      }
     }
    },
    "d2e14723-f09d-42ce-84c6-0add1858f6bf": {
     "id": "d2e14723-f09d-42ce-84c6-0add1858f6bf",
     "prev": "4ce11e7f-c4c5-4497-99e3-6b3ae4988b69",
     "regions": {
      "1eadbf5a-dd0c-4ebb-a88a-033a380eee76": {
       "attrs": {
        "height": 0.8,
        "width": 0.8,
        "x": 0.1,
        "y": 0.1
       },
       "content": {
        "cell": "9a438806-f97b-46d0-913d-eb9769b7b15a",
        "part": "whole"
       },
       "id": "1eadbf5a-dd0c-4ebb-a88a-033a380eee76"
      }
     }
    },
    "da272d48-2679-4114-8a48-ba68191ed6df": {
     "id": "da272d48-2679-4114-8a48-ba68191ed6df",
     "prev": "e7197821-806a-4340-9468-a904391993ef",
     "regions": {
      "a5090946-b9ec-4d5f-92b7-f55d8566acf1": {
       "attrs": {
        "height": 0.8,
        "width": 0.8,
        "x": 0.1,
        "y": 0.1
       },
       "content": {
        "cell": "612eb2d1-8d8c-4993-8c67-1cb78f9f0d9b",
        "part": "whole"
       },
       "id": "a5090946-b9ec-4d5f-92b7-f55d8566acf1"
      }
     }
    },
    "dd9b0452-7697-4ea5-8b2b-314d304ed416": {
     "id": "dd9b0452-7697-4ea5-8b2b-314d304ed416",
     "prev": "00393177-69f1-4783-9953-892e72f947e2",
     "regions": {
      "10ff7cd7-17f1-4340-8d09-793b3aade9ef": {
       "attrs": {
        "height": 0.8,
        "width": 0.8,
        "x": 0.1,
        "y": 0.1
       },
       "content": {
        "cell": "3ecaa9d9-2fd2-4005-aac7-3b59ff169d66",
        "part": "whole"
       },
       "id": "10ff7cd7-17f1-4340-8d09-793b3aade9ef"
      }
     }
    },
    "dee105f1-4909-4367-8844-d9f87bb74306": {
     "id": "dee105f1-4909-4367-8844-d9f87bb74306",
     "prev": "b7e5967c-cdd9-4eba-9b37-6b9586e9e3b8",
     "regions": {
      "a5b76ca8-1d91-464b-adf0-b0a43a79e40f": {
       "attrs": {
        "height": 0.8,
        "width": 0.8,
        "x": 0.1,
        "y": 0.1
       },
       "content": {
        "cell": "5517ef07-3cde-4c1e-b8b7-23f4d344f15b",
        "part": "whole"
       },
       "id": "a5b76ca8-1d91-464b-adf0-b0a43a79e40f"
      }
     }
    },
    "e051f46f-40d6-4c91-97f8-a76679f6b176": {
     "id": "e051f46f-40d6-4c91-97f8-a76679f6b176",
     "prev": "9cea881d-d866-42d1-927f-58a68032556f",
     "regions": {
      "9e6a3a0e-a344-4165-9c6b-ed4c29812c78": {
       "attrs": {
        "height": 0.8,
        "width": 0.8,
        "x": 0.1,
        "y": 0.1
       },
       "content": {
        "cell": "c488608f-1c43-4ffe-9fb1-a643a0b21f0b",
        "part": "whole"
       },
       "id": "9e6a3a0e-a344-4165-9c6b-ed4c29812c78"
      }
     }
    },
    "e7197821-806a-4340-9468-a904391993ef": {
     "id": "e7197821-806a-4340-9468-a904391993ef",
     "prev": "9622014c-d27e-4b3f-86af-3d0a7f070057",
     "regions": {
      "e9a20afa-8d80-49a9-ba61-61bf9e206ed2": {
       "attrs": {
        "height": 0.8,
        "width": 0.8,
        "x": 0.1,
        "y": 0.1
       },
       "content": {
        "cell": "90e9d607-e5d5-48a6-9e10-caf1ef80c3fd",
        "part": "whole"
       },
       "id": "e9a20afa-8d80-49a9-ba61-61bf9e206ed2"
      }
     }
    },
    "e807828d-1b8f-484c-9158-9624b7d7a3a3": {
     "id": "e807828d-1b8f-484c-9158-9624b7d7a3a3",
     "prev": "5795f835-4d6f-4ae9-8ba8-97bc42289ff6",
     "regions": {
      "566f24d8-02ba-4a96-bfaa-6f520a3010b6": {
       "attrs": {
        "height": 0.8,
        "width": 0.8,
        "x": 0.1,
        "y": 0.1
       },
       "content": {
        "cell": "73091822-7cbe-4b9f-ae4e-0d8546b83c40",
        "part": "whole"
       },
       "id": "566f24d8-02ba-4a96-bfaa-6f520a3010b6"
      }
     }
    },
    "ea5a6f9a-41b7-40d9-b2dd-308eb0a48dfe": {
     "id": "ea5a6f9a-41b7-40d9-b2dd-308eb0a48dfe",
     "prev": "4b145280-a3e7-469d-8341-62b5b6edaa15",
     "regions": {
      "ddb79e59-5d65-491f-96fb-c41a6dde4e61": {
       "attrs": {
        "height": 0.8,
        "width": 0.8,
        "x": 0.1,
        "y": 0.1
       },
       "content": {
        "cell": "7027acd4-8cb0-4878-8e65-d119b3619eb2",
        "part": "whole"
       },
       "id": "ddb79e59-5d65-491f-96fb-c41a6dde4e61"
      }
     }
    },
    "ec1d62b2-927d-4203-8999-6d77ecb6f556": {
     "id": "ec1d62b2-927d-4203-8999-6d77ecb6f556",
     "prev": "ea5a6f9a-41b7-40d9-b2dd-308eb0a48dfe",
     "regions": {
      "5bf943e2-cb43-4884-a9bf-8cb7a536f687": {
       "attrs": {
        "height": 0.8,
        "width": 0.8,
        "x": 0.1,
        "y": 0.1
       },
       "content": {
        "cell": "2c34dec1-8e12-4579-a82d-4ca5b5d5ed52",
        "part": "whole"
       },
       "id": "5bf943e2-cb43-4884-a9bf-8cb7a536f687"
      }
     }
    },
    "f243b6fb-43f2-4474-853d-f579331daba7": {
     "id": "f243b6fb-43f2-4474-853d-f579331daba7",
     "prev": "79ffb801-4f71-4602-a3e4-47d7319e1d5b",
     "regions": {
      "f6930117-1b70-4707-ad4b-36ae06dfb16c": {
       "attrs": {
        "height": 0.8,
        "width": 0.8,
        "x": 0.1,
        "y": 0.1
       },
       "content": {
        "cell": "a15b7cf8-e77d-4971-b0a7-5f7317f6b84f",
        "part": "whole"
       },
       "id": "f6930117-1b70-4707-ad4b-36ae06dfb16c"
      }
     }
    },
    "f365e1ac-efd6-48b7-be45-f0ad22bcb516": {
     "id": "f365e1ac-efd6-48b7-be45-f0ad22bcb516",
     "prev": "dd9b0452-7697-4ea5-8b2b-314d304ed416",
     "regions": {
      "87bed69d-5dbe-4160-8eb0-4a00a490119d": {
       "attrs": {
        "height": 0.8,
        "width": 0.8,
        "x": 0.1,
        "y": 0.1
       },
       "content": {
        "cell": "9a4ac4f1-9960-47ad-a46b-843c9d42eb27",
        "part": "whole"
       },
       "id": "87bed69d-5dbe-4160-8eb0-4a00a490119d"
      }
     }
    },
    "fa1814eb-2cb7-436e-87ae-10fe32dcb8d5": {
     "id": "fa1814eb-2cb7-436e-87ae-10fe32dcb8d5",
     "prev": "412156d0-9607-48f2-9348-83ee56775c6a",
     "regions": {
      "8d441589-1b94-46df-b2c3-066e79b4547b": {
       "attrs": {
        "height": 0.8,
        "width": 0.8,
        "x": 0.1,
        "y": 0.1
       },
       "content": {
        "cell": "d56b5832-1bce-48cf-8d2b-ac1b03cb192c",
        "part": "whole"
       },
       "id": "8d441589-1b94-46df-b2c3-066e79b4547b"
      }
     }
    }
   },
   "themes": {}
  }
 },
 "nbformat": 4,
 "nbformat_minor": 0
}
