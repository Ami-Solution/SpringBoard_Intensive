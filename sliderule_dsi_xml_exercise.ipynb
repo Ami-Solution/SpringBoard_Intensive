{
 "cells": [
  {
   "cell_type": "markdown",
   "metadata": {},
   "source": [
    "# XML example and exercise\n",
    "****\n",
    "+ study examples of accessing nodes in XML tree structure  \n",
    "+ work on exercise to be completed and submitted\n",
    "****\n",
    "+ reference: https://docs.python.org/2.7/library/xml.etree.elementtree.html\n",
    "+ data source: http://www.dbis.informatik.uni-goettingen.de/Mondial\n",
    "****"
   ]
  },
  {
   "cell_type": "code",
   "execution_count": 27,
   "metadata": {
    "collapsed": true
   },
   "outputs": [],
   "source": [
    "from xml.etree import ElementTree as ET\n",
    "import pandas as pd"
   ]
  },
  {
   "cell_type": "markdown",
   "metadata": {},
   "source": [
    "## XML example\n",
    "\n",
    "+ for details about tree traversal and iterators, see https://docs.python.org/2.7/library/xml.etree.elementtree.html"
   ]
  },
  {
   "cell_type": "code",
   "execution_count": 5,
   "metadata": {
    "collapsed": true
   },
   "outputs": [],
   "source": [
    "document_tree = ET.parse( './data/mondial_database_less.xml' )"
   ]
  },
  {
   "cell_type": "code",
   "execution_count": 7,
   "metadata": {
    "collapsed": false
   },
   "outputs": [
    {
     "name": "stdout",
     "output_type": "stream",
     "text": [
      "Albania\n",
      "Greece\n",
      "Macedonia\n",
      "Serbia\n",
      "Montenegro\n",
      "Kosovo\n",
      "Andorra\n"
     ]
    }
   ],
   "source": [
    "# print names of all countries\n",
    "for child in document_tree.getroot():\n",
    "    print (child.find('name').text)"
   ]
  },
  {
   "cell_type": "code",
   "execution_count": 13,
   "metadata": {
    "collapsed": false
   },
   "outputs": [
    {
     "name": "stdout",
     "output_type": "stream",
     "text": [
      "* Albania:\n",
      "Tirana, Shkodër, Durrës, Vlorë, Elbasan, Korçë\n",
      "* Greece:\n",
      "Komotini, Kavala, Athina, Peiraias, Peristeri, Acharnes, Patra, Kozani, Kerkyra, Ioannina, Thessaloniki, Iraklio, Chania, Ermoupoli, Rhodes, Tripoli, Lamia, Chalkida, Larissa, Volos, Mytilini, Karyes\n",
      "* Macedonia:\n",
      "Skopje, Kumanovo\n",
      "* Serbia:\n",
      "Beograd, Novi Sad, Niš\n",
      "* Montenegro:\n",
      "Podgorica\n",
      "* Kosovo:\n",
      "Prishtine\n",
      "* Andorra:\n",
      "Andorra la Vella\n"
     ]
    }
   ],
   "source": [
    "# print names of all countries and their cities\n",
    "for element in document_tree.iterfind('country'):\n",
    "    print ('* ' + element.find('name').text + ':')\n",
    "    capitals_string = ''\n",
    "    for subelement in element.getiterator('city'):\n",
    "        capitals_string += subelement.find('name').text + ', '\n",
    "    print (capitals_string[:-2])"
   ]
  },
  {
   "cell_type": "markdown",
   "metadata": {},
   "source": [
    "****\n",
    "## XML exercise\n",
    "\n",
    "Using data in 'data/mondial_database.xml', the examples above, and refering to https://docs.python.org/2.7/library/xml.etree.elementtree.html, find\n",
    "\n",
    "1. 10 countries with the lowest infant mortality rates\n",
    "2. 10 cities with the largest population\n",
    "3. 10 ethnic groups with the largest overall populations (sum of best/latest estimates over all countries)\n",
    "4. name and country of a) longest river, b) largest lake and c) airport at highest elevation"
   ]
  },
  {
   "cell_type": "code",
   "execution_count": 18,
   "metadata": {
    "collapsed": true
   },
   "outputs": [],
   "source": [
    "document = ET.parse( './data/mondial_database.xml' )\n",
    "root = document.getroot()"
   ]
  },
  {
   "cell_type": "code",
   "execution_count": 64,
   "metadata": {
    "collapsed": false
   },
   "outputs": [
    {
     "name": "stdout",
     "output_type": "stream",
     "text": [
      "Albania\n",
      "Greece\n",
      "Macedonia\n",
      "Serbia\n",
      "Montenegro\n",
      "Kosovo\n",
      "Andorra\n"
     ]
    }
   ],
   "source": [
    "# print names of all countries\n",
    "for child in document_tree.getroot():\n",
    "    print (child.find('name').text)"
   ]
  },
  {
   "cell_type": "markdown",
   "metadata": {},
   "source": [
    "<h2>1. 10 countries with the lowest infant mortality rates </h2>"
   ]
  },
  {
   "cell_type": "code",
   "execution_count": 78,
   "metadata": {
    "collapsed": false
   },
   "outputs": [],
   "source": [
    "# Create DataFrame and save countries and mortality rates\n",
    "df_infm = pd.DataFrame(columns=['country','infant_mort'])\n",
    "count = 0\n",
    "for element in document.iterfind('country'):\n",
    "    df_infm.set_value(index=count,col='country',value=element.find('name').text)\n",
    "    for subelement in element.getiterator('infant_mortality'):\n",
    "        df_infm.set_value(index=count,col='infant_mort',value=subelement.text)\n",
    "    count+=1\n"
   ]
  },
  {
   "cell_type": "code",
   "execution_count": 79,
   "metadata": {
    "collapsed": false
   },
   "outputs": [
    {
     "data": {
      "text/html": [
       "<div>\n",
       "<table border=\"1\" class=\"dataframe\">\n",
       "  <thead>\n",
       "    <tr style=\"text-align: right;\">\n",
       "      <th></th>\n",
       "      <th>country</th>\n",
       "      <th>infant_mort</th>\n",
       "    </tr>\n",
       "  </thead>\n",
       "  <tbody>\n",
       "    <tr>\n",
       "      <th>38</th>\n",
       "      <td>Monaco</td>\n",
       "      <td>1.81</td>\n",
       "    </tr>\n",
       "    <tr>\n",
       "      <th>98</th>\n",
       "      <td>Japan</td>\n",
       "      <td>2.13</td>\n",
       "    </tr>\n",
       "    <tr>\n",
       "      <th>117</th>\n",
       "      <td>Bermuda</td>\n",
       "      <td>2.48</td>\n",
       "    </tr>\n",
       "    <tr>\n",
       "      <th>36</th>\n",
       "      <td>Norway</td>\n",
       "      <td>2.48</td>\n",
       "    </tr>\n",
       "    <tr>\n",
       "      <th>106</th>\n",
       "      <td>Singapore</td>\n",
       "      <td>2.53</td>\n",
       "    </tr>\n",
       "    <tr>\n",
       "      <th>37</th>\n",
       "      <td>Sweden</td>\n",
       "      <td>2.60</td>\n",
       "    </tr>\n",
       "    <tr>\n",
       "      <th>10</th>\n",
       "      <td>Czech Republic</td>\n",
       "      <td>2.63</td>\n",
       "    </tr>\n",
       "    <tr>\n",
       "      <th>78</th>\n",
       "      <td>Hong Kong</td>\n",
       "      <td>2.73</td>\n",
       "    </tr>\n",
       "    <tr>\n",
       "      <th>79</th>\n",
       "      <td>Macao</td>\n",
       "      <td>3.13</td>\n",
       "    </tr>\n",
       "    <tr>\n",
       "      <th>44</th>\n",
       "      <td>Iceland</td>\n",
       "      <td>3.15</td>\n",
       "    </tr>\n",
       "  </tbody>\n",
       "</table>\n",
       "</div>"
      ],
      "text/plain": [
       "            country  infant_mort\n",
       "38           Monaco         1.81\n",
       "98            Japan         2.13\n",
       "117         Bermuda         2.48\n",
       "36           Norway         2.48\n",
       "106       Singapore         2.53\n",
       "37           Sweden         2.60\n",
       "10   Czech Republic         2.63\n",
       "78        Hong Kong         2.73\n",
       "79            Macao         3.13\n",
       "44          Iceland         3.15"
      ]
     },
     "execution_count": 79,
     "metadata": {},
     "output_type": "execute_result"
    }
   ],
   "source": [
    "df_infm['infant_mort'] = pd.to_numeric(df_infm['infant_mort'])\n",
    "df_infm = df_infm.dropna()\n",
    "df_infm.sort_values(by='infant_mort',ascending=True).head(10)"
   ]
  },
  {
   "cell_type": "markdown",
   "metadata": {},
   "source": [
    "<h2>2. 10 cities with the largest population</h2>"
   ]
  },
  {
   "cell_type": "code",
   "execution_count": 102,
   "metadata": {
    "collapsed": false
   },
   "outputs": [],
   "source": [
    "# Create DataFrame and save countries and population (of the last recorded population. ie. assumes the last in the tree is the most recent pop)\n",
    "df_pop = pd.DataFrame(columns=['country','pop'])\n",
    "count = 0\n",
    "for element in document.iterfind('country'):\n",
    "    country = element.find('name').text\n",
    "\n",
    "    df_pop.set_value(index=count,col='country',value=country)\n",
    "    \n",
    "    for subelement in element.findall('population'):\n",
    "        pop = subelement.text\n",
    "\n",
    "    #write to dataframe the last of the population tags (saved in pop) which is the most recent\n",
    "    df_pop.set_value(index=count,col='pop',value=pop)   \n",
    "\n",
    "    count+=1\n"
   ]
  },
  {
   "cell_type": "code",
   "execution_count": 103,
   "metadata": {
    "collapsed": false
   },
   "outputs": [],
   "source": [
    "df_pop['pop'] = pd.to_numeric(df_pop['pop'])"
   ]
  },
  {
   "cell_type": "code",
   "execution_count": 104,
   "metadata": {
    "collapsed": false
   },
   "outputs": [
    {
     "data": {
      "text/html": [
       "<div>\n",
       "<table border=\"1\" class=\"dataframe\">\n",
       "  <thead>\n",
       "    <tr style=\"text-align: right;\">\n",
       "      <th></th>\n",
       "      <th>country</th>\n",
       "      <th>pop</th>\n",
       "    </tr>\n",
       "  </thead>\n",
       "  <tbody>\n",
       "    <tr>\n",
       "      <th>55</th>\n",
       "      <td>China</td>\n",
       "      <td>1360720000</td>\n",
       "    </tr>\n",
       "    <tr>\n",
       "      <th>67</th>\n",
       "      <td>India</td>\n",
       "      <td>1210854977</td>\n",
       "    </tr>\n",
       "    <tr>\n",
       "      <th>120</th>\n",
       "      <td>United States</td>\n",
       "      <td>318857056</td>\n",
       "    </tr>\n",
       "    <tr>\n",
       "      <th>88</th>\n",
       "      <td>Indonesia</td>\n",
       "      <td>252124458</td>\n",
       "    </tr>\n",
       "    <tr>\n",
       "      <th>176</th>\n",
       "      <td>Brazil</td>\n",
       "      <td>202768562</td>\n",
       "    </tr>\n",
       "    <tr>\n",
       "      <th>57</th>\n",
       "      <td>Pakistan</td>\n",
       "      <td>173149306</td>\n",
       "    </tr>\n",
       "    <tr>\n",
       "      <th>202</th>\n",
       "      <td>Nigeria</td>\n",
       "      <td>164294516</td>\n",
       "    </tr>\n",
       "    <tr>\n",
       "      <th>65</th>\n",
       "      <td>Bangladesh</td>\n",
       "      <td>149772364</td>\n",
       "    </tr>\n",
       "    <tr>\n",
       "      <th>23</th>\n",
       "      <td>Russia</td>\n",
       "      <td>143666931</td>\n",
       "    </tr>\n",
       "    <tr>\n",
       "      <th>98</th>\n",
       "      <td>Japan</td>\n",
       "      <td>127298000</td>\n",
       "    </tr>\n",
       "  </tbody>\n",
       "</table>\n",
       "</div>"
      ],
      "text/plain": [
       "           country         pop\n",
       "55           China  1360720000\n",
       "67           India  1210854977\n",
       "120  United States   318857056\n",
       "88       Indonesia   252124458\n",
       "176         Brazil   202768562\n",
       "57        Pakistan   173149306\n",
       "202        Nigeria   164294516\n",
       "65      Bangladesh   149772364\n",
       "23          Russia   143666931\n",
       "98           Japan   127298000"
      ]
     },
     "execution_count": 104,
     "metadata": {},
     "output_type": "execute_result"
    }
   ],
   "source": [
    "df_pop.sort_values(by='pop',ascending=False).head(10)"
   ]
  },
  {
   "cell_type": "markdown",
   "metadata": {},
   "source": [
    "<h2>3. 10 ethnic groups with the largest overall populations (sum of best/latest estimates over all countries)</h2>"
   ]
  },
  {
   "cell_type": "code",
   "execution_count": 152,
   "metadata": {
    "collapsed": false
   },
   "outputs": [],
   "source": [
    "# Create DataFrame and save countries and population (of the last recorded population. ie. assumes the last in the tree is the most recent pop)\n",
    "df_eth = pd.DataFrame(columns=['country','ethnic_group','grp_pop'])\n",
    "count = 0\n",
    "for element in document.iterfind('country'):\n",
    "    country = element.find('name').text\n",
    "    \n",
    "    for subelement in element.findall('population'):\n",
    "        pop = subelement.text\n",
    "    \n",
    "    #write to dataframe the last of the population tags (saved in pop) which is the most recent\n",
    "    df_pop.set_value(index=count,col='pop',value=pop)   \n",
    "\n",
    "    for e_subel in element.findall('ethnicgroup'):\n",
    "        ethnic_group = (e_subel.text)\n",
    "        ethnic_group_pop = (float(list(e_subel.attrib.values())[0]))/100*df_pop['pop'][df_pop['country']==country]\n",
    "        ethnic_group_pop = int(ethnic_group_pop)\n",
    "        df_eth.set_value(index=count,col='country',value=country)\n",
    "        df_eth.set_value(index=count,col='ethnic_group',value= ethnic_group)\n",
    "        df_eth.set_value(index=count,col='grp_pop',value= ethnic_group_pop)\n",
    "\n",
    "    count+=1\n"
   ]
  },
  {
   "cell_type": "code",
   "execution_count": 153,
   "metadata": {
    "collapsed": false
   },
   "outputs": [],
   "source": [
    "df_pop['pop'] = pd.to_numeric(df_pop['pop'])"
   ]
  },
  {
   "cell_type": "code",
   "execution_count": 154,
   "metadata": {
    "collapsed": true
   },
   "outputs": [],
   "source": [
    "df_eth=df_eth.fillna(0)"
   ]
  },
  {
   "cell_type": "code",
   "execution_count": 157,
   "metadata": {
    "collapsed": false
   },
   "outputs": [],
   "source": [
    "grpd_pop = df_eth.groupby('ethnic_group').sum()"
   ]
  },
  {
   "cell_type": "code",
   "execution_count": 161,
   "metadata": {
    "collapsed": false
   },
   "outputs": [
    {
     "data": {
      "text/html": [
       "<div>\n",
       "<table border=\"1\" class=\"dataframe\">\n",
       "  <thead>\n",
       "    <tr style=\"text-align: right;\">\n",
       "      <th></th>\n",
       "      <th>grp_pop</th>\n",
       "    </tr>\n",
       "    <tr>\n",
       "      <th>ethnic_group</th>\n",
       "      <th></th>\n",
       "    </tr>\n",
       "  </thead>\n",
       "  <tbody>\n",
       "    <tr>\n",
       "      <th>Han Chinese</th>\n",
       "      <td>1245058800</td>\n",
       "    </tr>\n",
       "    <tr>\n",
       "      <th>African</th>\n",
       "      <td>248873336</td>\n",
       "    </tr>\n",
       "    <tr>\n",
       "      <th>Bengali</th>\n",
       "      <td>146776916</td>\n",
       "    </tr>\n",
       "    <tr>\n",
       "      <th>Japanese</th>\n",
       "      <td>126534212</td>\n",
       "    </tr>\n",
       "    <tr>\n",
       "      <th>Malay</th>\n",
       "      <td>108100168</td>\n",
       "    </tr>\n",
       "    <tr>\n",
       "      <th>Eastern Hamitic</th>\n",
       "      <td>82830376</td>\n",
       "    </tr>\n",
       "    <tr>\n",
       "      <th>Arab-Berber</th>\n",
       "      <td>80060796</td>\n",
       "    </tr>\n",
       "    <tr>\n",
       "      <th>European</th>\n",
       "      <td>73515162</td>\n",
       "    </tr>\n",
       "    <tr>\n",
       "      <th>Thai</th>\n",
       "      <td>49486244</td>\n",
       "    </tr>\n",
       "    <tr>\n",
       "      <th>Mediterranean Nordic</th>\n",
       "      <td>46815916</td>\n",
       "    </tr>\n",
       "  </tbody>\n",
       "</table>\n",
       "</div>"
      ],
      "text/plain": [
       "                         grp_pop\n",
       "ethnic_group                    \n",
       "Han Chinese           1245058800\n",
       "African                248873336\n",
       "Bengali                146776916\n",
       "Japanese               126534212\n",
       "Malay                  108100168\n",
       "Eastern Hamitic         82830376\n",
       "Arab-Berber             80060796\n",
       "European                73515162\n",
       "Thai                    49486244\n",
       "Mediterranean Nordic    46815916"
      ]
     },
     "execution_count": 161,
     "metadata": {},
     "output_type": "execute_result"
    }
   ],
   "source": [
    "grpd_pop.sort_values(by='grp_pop',ascending=False).head(10)"
   ]
  },
  {
   "cell_type": "markdown",
   "metadata": {},
   "source": [
    "<h2>4. Name and country of a) longest river, b) largest lake and c) airport at highest elevation</h2>"
   ]
  },
  {
   "cell_type": "code",
   "execution_count": 214,
   "metadata": {
    "collapsed": false
   },
   "outputs": [
    {
     "name": "stdout",
     "output_type": "stream",
     "text": [
      "<generator object prepare_child.<locals>.select at 0x000000000D320D00>\n",
      "river\n",
      "<generator object prepare_child.<locals>.select at 0x000000000D320D00>\n",
      "airport\n",
      "<generator object prepare_child.<locals>.select at 0x000000000D320D00>\n",
      "lake\n"
     ]
    }
   ],
   "source": [
    "df_locs = pd.DataFrame(columns=['type','name','val','country'])\n",
    "#type can be : river, lake, airport\n",
    "#  val is the measure (length or elevation)\n",
    "count = 0\n",
    "#geos = ['river']\n",
    "geos = ['river','airport','lake']\n",
    "for geo in geos:\n",
    "    print (document.iterfind(geo))\n",
    "    print (geo)\n",
    "    for element in document.iterfind(geo):\n",
    "        name = element.find('name').text\n",
    "        if geo == 'airport':\n",
    "            try:\n",
    "                val = element.iterfind('elevation').text\n",
    "            except:\n",
    "                val = 0\n",
    "            val = (element.find('elevation').text)\n",
    "        elif geo == 'river':\n",
    "            try:\n",
    "                val = element.iterfind('length').text\n",
    "            except:\n",
    "                val = 0\n",
    "        elif geo == 'lake':\n",
    "            try:\n",
    "                val = (element.find('area').text)\n",
    "            except:\n",
    "                val = 0\n",
    "        typ = geo\n",
    "        country = element.attrib['country']\n",
    "        \n",
    "        df_locs.set_value(index=count,col='country',value=country)\n",
    "        df_locs.set_value(index=count,col='val',value= val)\n",
    "        df_locs.set_value(index=count,col='type',value= geo)\n",
    "        df_locs.set_value(index=count,col='name',value= name)\n",
    "        count+=1   \n"
   ]
  },
  {
   "cell_type": "code",
   "execution_count": 215,
   "metadata": {
    "collapsed": true
   },
   "outputs": [],
   "source": [
    "df_locs['val'] = pd.to_numeric(df_locs['val'])"
   ]
  },
  {
   "cell_type": "code",
   "execution_count": 216,
   "metadata": {
    "collapsed": false
   },
   "outputs": [
    {
     "data": {
      "text/html": [
       "<div>\n",
       "<table border=\"1\" class=\"dataframe\">\n",
       "  <thead>\n",
       "    <tr style=\"text-align: right;\">\n",
       "      <th></th>\n",
       "      <th>type</th>\n",
       "      <th>name</th>\n",
       "      <th>val</th>\n",
       "      <th>country</th>\n",
       "    </tr>\n",
       "  </thead>\n",
       "  <tbody>\n",
       "    <tr>\n",
       "      <th>1607</th>\n",
       "      <td>lake</td>\n",
       "      <td>Caspian Sea</td>\n",
       "      <td>386400.0</td>\n",
       "      <td>R AZ KAZ IR TM</td>\n",
       "    </tr>\n",
       "    <tr>\n",
       "      <th>1662</th>\n",
       "      <td>lake</td>\n",
       "      <td>Lake Superior</td>\n",
       "      <td>82103.0</td>\n",
       "      <td>CDN USA</td>\n",
       "    </tr>\n",
       "    <tr>\n",
       "      <th>1634</th>\n",
       "      <td>lake</td>\n",
       "      <td>Lake Victoria</td>\n",
       "      <td>68870.0</td>\n",
       "      <td>EAT EAK EAU</td>\n",
       "    </tr>\n",
       "    <tr>\n",
       "      <th>1659</th>\n",
       "      <td>lake</td>\n",
       "      <td>Lake Huron</td>\n",
       "      <td>59600.0</td>\n",
       "      <td>CDN USA</td>\n",
       "    </tr>\n",
       "    <tr>\n",
       "      <th>1661</th>\n",
       "      <td>lake</td>\n",
       "      <td>Lake Michigan</td>\n",
       "      <td>57800.0</td>\n",
       "      <td>USA</td>\n",
       "    </tr>\n",
       "    <tr>\n",
       "      <th>1600</th>\n",
       "      <td>lake</td>\n",
       "      <td>Dead Sea</td>\n",
       "      <td>41650.0</td>\n",
       "      <td>IL JOR WEST</td>\n",
       "    </tr>\n",
       "    <tr>\n",
       "      <th>1636</th>\n",
       "      <td>lake</td>\n",
       "      <td>Lake Tanganjika</td>\n",
       "      <td>32893.0</td>\n",
       "      <td>ZRE Z BI EAT</td>\n",
       "    </tr>\n",
       "    <tr>\n",
       "      <th>1651</th>\n",
       "      <td>lake</td>\n",
       "      <td>Great Bear Lake</td>\n",
       "      <td>31792.0</td>\n",
       "      <td>CDN</td>\n",
       "    </tr>\n",
       "    <tr>\n",
       "      <th>1596</th>\n",
       "      <td>lake</td>\n",
       "      <td>Ozero Baikal</td>\n",
       "      <td>31492.0</td>\n",
       "      <td>R</td>\n",
       "    </tr>\n",
       "    <tr>\n",
       "      <th>1642</th>\n",
       "      <td>lake</td>\n",
       "      <td>Lake Malawi</td>\n",
       "      <td>29600.0</td>\n",
       "      <td>MW MOC EAT</td>\n",
       "    </tr>\n",
       "  </tbody>\n",
       "</table>\n",
       "</div>"
      ],
      "text/plain": [
       "      type             name       val         country\n",
       "1607  lake      Caspian Sea  386400.0  R AZ KAZ IR TM\n",
       "1662  lake    Lake Superior   82103.0         CDN USA\n",
       "1634  lake    Lake Victoria   68870.0     EAT EAK EAU\n",
       "1659  lake       Lake Huron   59600.0         CDN USA\n",
       "1661  lake    Lake Michigan   57800.0             USA\n",
       "1600  lake         Dead Sea   41650.0     IL JOR WEST\n",
       "1636  lake  Lake Tanganjika   32893.0    ZRE Z BI EAT\n",
       "1651  lake  Great Bear Lake   31792.0             CDN\n",
       "1596  lake     Ozero Baikal   31492.0               R\n",
       "1642  lake      Lake Malawi   29600.0      MW MOC EAT"
      ]
     },
     "execution_count": 216,
     "metadata": {},
     "output_type": "execute_result"
    }
   ],
   "source": [
    "top10_lakes = df_locs[df_locs['type']=='lake'].sort_values(by='val',ascending=False).head(10)\n",
    "top10_lakes"
   ]
  },
  {
   "cell_type": "code",
   "execution_count": 217,
   "metadata": {
    "collapsed": false
   },
   "outputs": [
    {
     "data": {
      "text/html": [
       "<div>\n",
       "<table border=\"1\" class=\"dataframe\">\n",
       "  <thead>\n",
       "    <tr style=\"text-align: right;\">\n",
       "      <th></th>\n",
       "      <th>type</th>\n",
       "      <th>name</th>\n",
       "      <th>val</th>\n",
       "      <th>country</th>\n",
       "    </tr>\n",
       "  </thead>\n",
       "  <tbody>\n",
       "    <tr>\n",
       "      <th>318</th>\n",
       "      <td>airport</td>\n",
       "      <td>El Alto Intl</td>\n",
       "      <td>4063.0</td>\n",
       "      <td>BOL</td>\n",
       "    </tr>\n",
       "    <tr>\n",
       "      <th>457</th>\n",
       "      <td>airport</td>\n",
       "      <td>Lhasa-Gonggar</td>\n",
       "      <td>4005.0</td>\n",
       "      <td>CN</td>\n",
       "    </tr>\n",
       "    <tr>\n",
       "      <th>479</th>\n",
       "      <td>airport</td>\n",
       "      <td>Yushu Batang</td>\n",
       "      <td>3963.0</td>\n",
       "      <td>CN</td>\n",
       "    </tr>\n",
       "    <tr>\n",
       "      <th>1051</th>\n",
       "      <td>airport</td>\n",
       "      <td>Juliaca</td>\n",
       "      <td>3827.0</td>\n",
       "      <td>PE</td>\n",
       "    </tr>\n",
       "    <tr>\n",
       "      <th>1053</th>\n",
       "      <td>airport</td>\n",
       "      <td>Teniente Alejandro Velasco Astete Intl</td>\n",
       "      <td>3311.0</td>\n",
       "      <td>PE</td>\n",
       "    </tr>\n",
       "    <tr>\n",
       "      <th>320</th>\n",
       "      <td>airport</td>\n",
       "      <td>Juana Azurduy De Padilla</td>\n",
       "      <td>2905.0</td>\n",
       "      <td>BOL</td>\n",
       "    </tr>\n",
       "    <tr>\n",
       "      <th>572</th>\n",
       "      <td>airport</td>\n",
       "      <td>Mariscal Sucre Intl</td>\n",
       "      <td>2813.0</td>\n",
       "      <td>EC</td>\n",
       "    </tr>\n",
       "    <tr>\n",
       "      <th>1043</th>\n",
       "      <td>airport</td>\n",
       "      <td>Coronel Fap Alfredo Mendivil Duarte</td>\n",
       "      <td>2719.0</td>\n",
       "      <td>PE</td>\n",
       "    </tr>\n",
       "    <tr>\n",
       "      <th>1045</th>\n",
       "      <td>airport</td>\n",
       "      <td>Mayor General FAP Armando Revoredo Iglesias Ai...</td>\n",
       "      <td>2677.0</td>\n",
       "      <td>PE</td>\n",
       "    </tr>\n",
       "    <tr>\n",
       "      <th>930</th>\n",
       "      <td>airport</td>\n",
       "      <td>Licenciado Adolfo Lopez Mateos Intl</td>\n",
       "      <td>2581.0</td>\n",
       "      <td>MEX</td>\n",
       "    </tr>\n",
       "  </tbody>\n",
       "</table>\n",
       "</div>"
      ],
      "text/plain": [
       "         type                                               name     val  \\\n",
       "318   airport                                       El Alto Intl  4063.0   \n",
       "457   airport                                      Lhasa-Gonggar  4005.0   \n",
       "479   airport                                       Yushu Batang  3963.0   \n",
       "1051  airport                                            Juliaca  3827.0   \n",
       "1053  airport             Teniente Alejandro Velasco Astete Intl  3311.0   \n",
       "320   airport                           Juana Azurduy De Padilla  2905.0   \n",
       "572   airport                                Mariscal Sucre Intl  2813.0   \n",
       "1043  airport                Coronel Fap Alfredo Mendivil Duarte  2719.0   \n",
       "1045  airport  Mayor General FAP Armando Revoredo Iglesias Ai...  2677.0   \n",
       "930   airport                Licenciado Adolfo Lopez Mateos Intl  2581.0   \n",
       "\n",
       "     country  \n",
       "318      BOL  \n",
       "457       CN  \n",
       "479       CN  \n",
       "1051      PE  \n",
       "1053      PE  \n",
       "320      BOL  \n",
       "572       EC  \n",
       "1043      PE  \n",
       "1045      PE  \n",
       "930      MEX  "
      ]
     },
     "execution_count": 217,
     "metadata": {},
     "output_type": "execute_result"
    }
   ],
   "source": [
    "top10_airports = df_locs[df_locs['type']=='airport'].sort_values(by='val',ascending=False).head(10)\n",
    "top10_airports "
   ]
  },
  {
   "cell_type": "code",
   "execution_count": 209,
   "metadata": {
    "collapsed": false
   },
   "outputs": [
    {
     "data": {
      "text/html": [
       "<div>\n",
       "<table border=\"1\" class=\"dataframe\">\n",
       "  <thead>\n",
       "    <tr style=\"text-align: right;\">\n",
       "      <th></th>\n",
       "      <th>type</th>\n",
       "      <th>name</th>\n",
       "      <th>val</th>\n",
       "      <th>country</th>\n",
       "    </tr>\n",
       "  </thead>\n",
       "  <tbody>\n",
       "    <tr>\n",
       "      <th>0</th>\n",
       "      <td>river</td>\n",
       "      <td>Thjorsa</td>\n",
       "      <td>0</td>\n",
       "      <td>IS</td>\n",
       "    </tr>\n",
       "    <tr>\n",
       "      <th>163</th>\n",
       "      <td>river</td>\n",
       "      <td>Allegheny River</td>\n",
       "      <td>0</td>\n",
       "      <td>USA</td>\n",
       "    </tr>\n",
       "    <tr>\n",
       "      <th>151</th>\n",
       "      <td>river</td>\n",
       "      <td>Detroit River</td>\n",
       "      <td>0</td>\n",
       "      <td>CDN USA</td>\n",
       "    </tr>\n",
       "    <tr>\n",
       "      <th>152</th>\n",
       "      <td>river</td>\n",
       "      <td>Saint Marys River</td>\n",
       "      <td>0</td>\n",
       "      <td>CDN USA</td>\n",
       "    </tr>\n",
       "    <tr>\n",
       "      <th>153</th>\n",
       "      <td>river</td>\n",
       "      <td>Straits of Mackinac</td>\n",
       "      <td>0</td>\n",
       "      <td>USA</td>\n",
       "    </tr>\n",
       "    <tr>\n",
       "      <th>154</th>\n",
       "      <td>river</td>\n",
       "      <td>Manicouagan</td>\n",
       "      <td>0</td>\n",
       "      <td>CDN</td>\n",
       "    </tr>\n",
       "    <tr>\n",
       "      <th>155</th>\n",
       "      <td>river</td>\n",
       "      <td>Riviere Richelieu</td>\n",
       "      <td>0</td>\n",
       "      <td>CDN</td>\n",
       "    </tr>\n",
       "    <tr>\n",
       "      <th>156</th>\n",
       "      <td>river</td>\n",
       "      <td>Merrimack River</td>\n",
       "      <td>0</td>\n",
       "      <td>USA</td>\n",
       "    </tr>\n",
       "    <tr>\n",
       "      <th>157</th>\n",
       "      <td>river</td>\n",
       "      <td>Connecticut River</td>\n",
       "      <td>0</td>\n",
       "      <td>USA</td>\n",
       "    </tr>\n",
       "    <tr>\n",
       "      <th>158</th>\n",
       "      <td>river</td>\n",
       "      <td>Hudson River</td>\n",
       "      <td>0</td>\n",
       "      <td>USA</td>\n",
       "    </tr>\n",
       "  </tbody>\n",
       "</table>\n",
       "</div>"
      ],
      "text/plain": [
       "      type                 name val  country\n",
       "0    river              Thjorsa   0       IS\n",
       "163  river      Allegheny River   0      USA\n",
       "151  river        Detroit River   0  CDN USA\n",
       "152  river    Saint Marys River   0  CDN USA\n",
       "153  river  Straits of Mackinac   0      USA\n",
       "154  river          Manicouagan   0      CDN\n",
       "155  river    Riviere Richelieu   0      CDN\n",
       "156  river      Merrimack River   0      USA\n",
       "157  river    Connecticut River   0      USA\n",
       "158  river         Hudson River   0      USA"
      ]
     },
     "execution_count": 209,
     "metadata": {},
     "output_type": "execute_result"
    }
   ],
   "source": [
    "top10_rivers = df_locs[df_locs['type']=='river'].sort_values(by='val',ascending=False).head(10)\n",
    "top10_rivers"
   ]
  },
  {
   "cell_type": "code",
   "execution_count": null,
   "metadata": {
    "collapsed": true
   },
   "outputs": [],
   "source": [
    "<airport iatacode=\"KBL\" city=\"cty-Afghanistan-Kabul\" country=\"AFG\">\n",
    "      <name>Kabul Intl</name>\n",
    "      <latitude>34.565853</latitude>\n",
    "      <longitude>69.212328</longitude>\n",
    "      <elevation>1792</elevation>\n",
    "      <gmtOffset>5</gmtOffset>\n",
    "   </airport>\n",
    "\n",
    "   <river id=\"river-Thjorsa\" country=\"IS\">\n",
    "      <name>Thjorsa</name>\n",
    "      <to watertype=\"sea\" water=\"sea-Atlantic\"/>\n",
    "      <area>7530</area>\n",
    "      <length>230</length>\n",
    "      <source country=\"IS\">\n",
    "         <latitude>65</latitude>\n",
    "         <longitude>-18</longitude>\n",
    "      </source>\n",
    "      <estuary country=\"IS\">\n",
    "         <latitude>63.9</latitude>\n",
    "         <longitude>-20.8</longitude>\n",
    "      </estuary>\n",
    "   </river>\n",
    "\n",
    "   <lake id=\"lake-Inarisee\" country=\"SF\">\n",
    "      <name>Inari</name>\n",
    "      <located country=\"SF\" province=\"lteil-LAP-SF\"/>\n",
    "      <to watertype=\"river\" water=\"river-Paatsjoki\"/>\n",
    "      <area>1040</area>\n",
    "      <latitude>68.95</latitude>\n",
    "      <longitude>27.7</longitude>\n",
    "      <elevation>119</elevation>\n",
    "      <depth>92</depth>\n",
    "   </lake>"
   ]
  }
 ],
 "metadata": {
  "kernelspec": {
   "display_name": "Python 3",
   "language": "python",
   "name": "python3"
  },
  "language_info": {
   "codemirror_mode": {
    "name": "ipython",
    "version": 3
   },
   "file_extension": ".py",
   "mimetype": "text/x-python",
   "name": "python",
   "nbconvert_exporter": "python",
   "pygments_lexer": "ipython3",
   "version": "3.6.0"
  }
 },
 "nbformat": 4,
 "nbformat_minor": 0
}
