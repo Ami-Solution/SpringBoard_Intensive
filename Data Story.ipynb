{
 "cells": [
  {
   "cell_type": "markdown",
   "metadata": {},
   "source": [
    "<h1>Data Story - Technology Assessment of Vendors in Energy Space</h1>\n",
    "<p> Because this data is proprietary, I cannot share it here. However, the questions asked, and the plots presented are shown in the attached images- anonymized and redacted to show the final story/report.</p>\n",
    "<h2> About the Data </h2>\n",
    "<p> The data is confidential, as it was paid for by my company, however I can share the general skeleton of what we were working with. The data was for an assessment of vendors in a particular technology space in energy. We wanted to see how well these vendors performed at particular capabilities that we were interested in. There were 14 vendors, and their performance capabilities were measured on a scale of 0 to 5. From the final report description:</p>\n",
    "<h3> Overview: </h3>\n",
    "<p>[Company X] was hired to do a first round analysis of the top 15 vendors in the [technologyY] controller space on a wide range of performance capabilities and characteristics. They were hired over others because of their experience in the space. The first round analysis discussed here is based off of the knowledge and experience of the [Company X] consultants who worked on this assessment. </p>\n",
    "<p>Each capability or characteristic was rated on a scale\n",
    "of 0 to 5:</p>\n",
    "<ul>\n",
    "    <li>0 being an absent capability</li>    \n",
    "  <li>5 being a completely developed capability that completely satisfies client need</li>\n",
    "</ul>\n",
    "  \n",
    "<h3>Goals of the study were:</h3>\n",
    "<ul>\n",
    "    Within this report:\n",
    "    <li> Analysis of Vendor Rankings </li>\n",
    "    <li>Analysis of Top 4 Vendors strengths & weaknesses</li>\n",
    "    <li>Opportunity Areas across all areas & capabilities</li>\n",
    "    <li>Strongest players within areas</li>\n",
    "</ul>\n",
    "\n",
    "<h2>Questions & Trends:</h2>\n",
    "<ol>\n",
    "    <li> First, LOOK AT THE DATA. How many different ways can I plot this? </li>\n",
    "        <ul>\n",
    "            <li>Line plot of vendor scores versus capability on X axis</li>\n",
    "            <li>Clustered bar horizontal with top 3 vendors, capabilities on y axis, score of performance on x.</li>\n",
    "            <li>Group by capability/section and plot lines for all or top vendors</li>\n",
    "            <li>Plot vendors by score in section in bar h </li>\n",
    "        </ul>\n",
    "    <li> Once I got a good look at what I was dealing with, asked some other questions:</li>\n",
    "        <ul>\n",
    "            <li>What are the top 4 vendors in each capability area?</li>\n",
    "            <li>What are the strongest vendors across the board?</li>\n",
    "            <li>Are there any vendors dominating in any one capability?</li>\n",
    "            <li>Is there room for someone to come in and out-perform others?</li>\n",
    "            <li>Are there corelations between the strongest and weekest areas for the top 4 vendors? i.e. are they all performinc poorly in the same areas? are they performing well in the same areas? Do they complement eachother?</li>\n",
    "        </ul>\n",
    "</ol>\n",
    "<h2> Images of final story plots: </h2>\n",
    "    \n"
   ]
  },
  {
   "cell_type": "code",
   "execution_count": null,
   "metadata": {
    "collapsed": true
   },
   "outputs": [],
   "source": []
  }
 ],
 "metadata": {
  "kernelspec": {
   "display_name": "Python [conda root]",
   "language": "python",
   "name": "conda-root-py"
  },
  "language_info": {
   "codemirror_mode": {
    "name": "ipython",
    "version": 3
   },
   "file_extension": ".py",
   "mimetype": "text/x-python",
   "name": "python",
   "nbconvert_exporter": "python",
   "pygments_lexer": "ipython3",
   "version": "3.5.2"
  }
 },
 "nbformat": 4,
 "nbformat_minor": 1
}
